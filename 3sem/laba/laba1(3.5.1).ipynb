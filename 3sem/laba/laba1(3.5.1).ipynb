{
 "cells": [
  {
   "cell_type": "markdown",
   "metadata": {},
   "source": [
    "# Отчет по выполнению лабораторной работы 3.5.1\n"
   ]
  },
  {
   "cell_type": "markdown",
   "metadata": {},
   "source": [
    "\n",
    "## *\"Изучение плазмы газового разряда в неоне\"*"
   ]
  },
  {
   "cell_type": "code",
   "execution_count": null,
   "metadata": {},
   "outputs": [],
   "source": []
  },
  {
   "cell_type": "code",
   "execution_count": null,
   "metadata": {},
   "outputs": [],
   "source": [
    "#Импортирование библиотек\n",
    "import pandas as pd\n",
    "import numpy as np"
   ]
  },
  {
   "cell_type": "markdown",
   "metadata": {},
   "source": [
    "### Таблица снятия показаний вольтметра V_1 и амперметра А_1. "
   ]
  },
  {
   "cell_type": "markdown",
   "metadata": {},
   "source": [
    "### Ток разряда в диапазоне от 0.5 мА до 5мА"
   ]
  },
  {
   "cell_type": "code",
   "execution_count": null,
   "metadata": {},
   "outputs": [],
   "source": [
    "#Увеличение тока от 0.5 мА до 5 мА\n",
    "I_1 = np.array([22,33,48,69,84,96,119,140])\n",
    "I_1 = I_1*1.5/(150*10**3)\n",
    "I_2 = np.array([39,45,55,62,75,85,93,99,109,122])\n",
    "I_2 = I_2 *6/(150*10**3)\n",
    "U = np.array([36.3, 35.7,35.2,34.5,34.1,33.8,33.0, 32.5,32.2,32, 31.7, 31.5, 31.3, 31.5, 31.6,31.6,31.7,31.7])\n",
    "Colum1_1=np.array(['Прямо' for i in range(0,18)])\n",
    "Colum2_1=np.hstack((np.array([1.5 for i in range(0,8)]),np.array([6 for i in range(0,10)])))\n",
    "Colum3_1=np.hstack((np.array([22,33,48,69,84,96,119,140]),np.array([39,45,55,62,75,85,93,99,109,122])))\n",
    "Colum4_1=np.hstack((I_1,I_2))\n",
    "Colum5_1=np.hstack((np.array([1.5/(150*10**3) for i in range(0,8)]), np.array([6.0/(150*10**3) for i in range(0,10)])))\n",
    "Colum7_1=np.array([0.1 for i in range(0,18)])\n",
    "d1={'Прямо или обратно':Colum1_1,'Предел':Colum2_1,\n",
    "   'Количество делений':Colum3_1,'I, мА':Colum4_1*10**3,' ∆I, мА':Colum5_1*10**3,'U, В':U,'∆U, В':Colum7_1}\n",
    "#pd.DataFrame(d1)"
   ]
  },
  {
   "cell_type": "code",
   "execution_count": 73,
   "metadata": {},
   "outputs": [],
   "source": [
    "##Уменьшение тока от 5 мА до 0.5 мА\n",
    "I_1_1 = np.array([23,32,41,50,60,73,83,90,102,110,119,128])\n",
    "I_1_1 = I_1_1*1.5/(150*10**3)\n",
    "I_2_1 = np.array([38,45,50,55,60,65,70,75,80,85,90,95,100,105,110,115,120,125,130])\n",
    "I_2_1 = I_2_1 *6/(150*10**3)\n",
    "U_1 = np.array([36.32,35.95,35.46,35.24,34.90,34.38,34.13,33.95,33.60,33.17,32.66,32.34,31.78,31.38,31.22,30.99,30.91,30.82,30.75,30.57,30.53,30.68,30.78,30.84,30.87,30.91,30.95,30.97,30.97,30.96,30.97])\n",
    "Colum1_1_1=np.array(['Прямо' for i in range(0,31)])\n",
    "Colum2_1_1=np.hstack((np.array([1.5 for i in range(0,12)]),np.array([6 for i in range(0,19)])))\n",
    "Colum3_1_1=np.hstack((np.array(I_1_1*150/1.5),np.array(I_2_1*150/6)))\n",
    "Colum4_1_1=np.hstack((I_1_1,I_2_1))\n",
    "Colum5_1_1=np.hstack((np.array([1.5/(150*10**3) for i in range(0,12)]), np.array([6.0/(150*10**3) for i in range(0,19)])))\n",
    "Colum7_1_1=np.array([0.1 for i in range(0,31)])\n",
    "d1_1={'Прямо или обратно':Colum1_1_1,'Предел':Colum2_1_1,\n",
    "   'Количество делений':Colum3_1_1,'I, мА':Colum4_1_1*10**3,' ∆I, мА':Colum5_1_1*10**3,'U, В':U_1,'∆U, В':Colum7_1_1}\n",
    "#pd.DataFrame(d1_1)"
   ]
  },
  {
   "cell_type": "markdown",
   "metadata": {},
   "source": [
    "## Зондовые характеристики"
   ]
  },
  {
   "cell_type": "markdown",
   "metadata": {},
   "source": [
    "### Таблица снятия тока и напяжения через двойной зонд при разрядном токе 5 мА"
   ]
  },
  {
   "cell_type": "code",
   "execution_count": 79,
   "metadata": {},
   "outputs": [],
   "source": [
    "I_plus = np.array([4.51,11.20,24.74,37.08, 49.23, 60.64, 72.89,89.81,101.71,115.96,124.52,128.40,129.71, 128.18])\n",
    "U_plus = np.array([0.55, 1.04, 2.05,3.01, 4.00,5.02,6.22,8.20,9.97,12.97,16.10,18.99, 22.02,24.97])\n",
    "I_min = np.array([3.05, 5.72,13.28,27.05, 38.99,61.06, 76.43,89.01,99.73,108.38,112.39,114.02,112.36])\n",
    "U_min = np.array([0.728,1.378,1.950,3.029,4.022,6.135,7.970,9.902,12.180,15.126,18.027,21.515,24.985])\n",
    "Colum4_2=np.hstack((I_plus,I_min))\n",
    "Colum5_2=np.array([0.001 for i in range(0,27)])\n",
    "Colum6_2=Colum4_2=np.hstack((U_plus,U_min))\n",
    "Colum7_2=np.array([0.1 for i in range(0,27)])\n",
    "d2={'I, мкА':Colum4_2,' ∆I, мкА':Colum5_2,'U, В':Colum6_2,'∆U, В':Colum7_2}\n",
    "#pd.DataFrame(d2)"
   ]
  },
  {
   "cell_type": "markdown",
   "metadata": {},
   "source": [
    "### Таблица снятия тока и напряжения через двойной зонд при разрядном токе 3 мА"
   ]
  },
  {
   "cell_type": "code",
   "execution_count": 80,
   "metadata": {},
   "outputs": [],
   "source": [
    "I_plus_2 = np.array([6.87,14.16,19.43,25.40,37.14,45.80,55.31,62.26,69.77,73.88,76.29,78.56,80.80])\n",
    "U_plus_2 = np.array([0.660,1.563,2.228,3.012,4.678,6.106,8.033,9.907,13.041,16.189,19.021,22.006,24.995])\n",
    "I_min_2 = np.array([0.36,4.55,10.65,13.23,19.72,26.63,37.38,47.05,54.10,60.5,63.57,65.72,67.87,69.79])\n",
    "U_min_2 = np.array([0.65,1.186,2.304,1.966,3.185,4.197,5.961,8.042,10.162,13.078,16.159,18.971,22.141,24.995])\n",
    "Colum4_2_2=np.hstack((I_plus_2,I_min_2))\n",
    "Colum5_2_2=np.array([0.001 for i in range(0,27)])\n",
    "Colum6_2_2=Colum4_2=np.hstack((U_plus_2,U_min_2))\n",
    "Colum7_2_2=np.array([0.1 for i in range(0,27)])\n",
    "d2_2={'I, мкА':Colum4_2_2,' ∆I, мкА':Colum5_2_2,'U, В':Colum6_2_2,'∆U, В':Colum7_2_2}\n",
    "#pd.DataFrame(d2_2)"
   ]
  },
  {
   "cell_type": "markdown",
   "metadata": {},
   "source": [
    "### Таблица снятия тока и напряжения через двойной зонд при разрядном токе 1.5 мА"
   ]
  },
  {
   "cell_type": "code",
   "execution_count": 76,
   "metadata": {},
   "outputs": [],
   "source": [
    "I_plus_3 = np.array([3.90, 7.48,10.31,14.82,17.87,24.57,29.46,32.51,35.78,37.48,38.87,40.38,41.69])\n",
    "U_plus_3 = np.array([0.56, 1.387,2.05,3.19,4.00,6.13,8.219,10.091,13.196,16.092,19.025,22.312,24.978])\n",
    "I_min_3 = np.array([0, 3.38, 7.39,10.42,14.10, 20.01, 24.20, 27.01,30.02, 31.41, 32.58, 33.63, 34.81])\n",
    "U_min_3 = np.array([0.48,1.280, 2.263, 3.050, 4.089, 6.099, 8.056, 9.944, 13.400, 16.325, 19.269, 21.962, 24.977])\n",
    "Colum4_2_3=np.hstack((I_plus_3,I_min_3))\n",
    "Colum5_2_3=np.array([0.001 for i in range(0,26)])\n",
    "Colum6_2_3=Colum4_2=np.hstack((U_plus_3,U_min_3))\n",
    "Colum7_2_3=np.array([0.1 for i in range(0,26)])\n",
    "d2_3={'I, мкА':Colum4_2_3,'∆I, мкА':Colum5_2_3,'U, В':Colum6_2_3,'∆U, В':Colum7_2_3}\n",
    "#pd.DataFrame(d2_3)"
   ]
  },
  {
   "cell_type": "markdown",
   "metadata": {},
   "source": [
    "## Обработка результатов"
   ]
  },
  {
   "cell_type": "markdown",
   "metadata": {},
   "source": [
    "### Построение вольт-амперной характеристики разряда"
   ]
  },
  {
   "cell_type": "code",
   "execution_count": null,
   "metadata": {},
   "outputs": [],
   "source": []
  },
  {
   "cell_type": "markdown",
   "metadata": {},
   "source": [
    "### Определение максимального дифференциального сопротивления разряда"
   ]
  },
  {
   "cell_type": "code",
   "execution_count": null,
   "metadata": {},
   "outputs": [],
   "source": []
  },
  {
   "cell_type": "markdown",
   "metadata": {},
   "source": [
    "### Построение семейства зондовых характеристик"
   ]
  },
  {
   "cell_type": "code",
   "execution_count": null,
   "metadata": {},
   "outputs": [],
   "source": []
  }
 ],
 "metadata": {
  "kernelspec": {
   "display_name": "Python 3",
   "language": "python",
   "name": "python3"
  },
  "language_info": {
   "codemirror_mode": {
    "name": "ipython",
    "version": 3
   },
   "file_extension": ".py",
   "mimetype": "text/x-python",
   "name": "python",
   "nbconvert_exporter": "python",
   "pygments_lexer": "ipython3",
   "version": "3.6.5"
  }
 },
 "nbformat": 4,
 "nbformat_minor": 2
}
