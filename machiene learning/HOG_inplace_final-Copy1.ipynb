{
 "cells": [
  {
   "cell_type": "markdown",
   "metadata": {},
   "source": [
    "#### надо установить opencv для python, если не установлен.\n",
    "#### pip(pip3) install opencv-python"
   ]
  },
  {
   "cell_type": "code",
   "execution_count": 1,
   "metadata": {},
   "outputs": [],
   "source": [
    "import cv2\n",
    "import numpy as np\n",
    "import torch\n",
    "from matplotlib import pyplot as plt\n",
    "%matplotlib inline\n",
    "import matplotlib.pylab as pylab\n",
    "params = {'legend.fontsize': 'x-large',\n",
    "          'figure.figsize': (20, 10),\n",
    "         'axes.labelsize': '30',\n",
    "         'axes.titlesize':'35',\n",
    "         'xtick.labelsize':'30',\n",
    "         'ytick.labelsize':'30'}\n",
    "pylab.rcParams.update(params)"
   ]
  },
  {
   "cell_type": "markdown",
   "metadata": {},
   "source": [
    "Пример получения вектора признаков для изображения"
   ]
  },
  {
   "cell_type": "code",
   "execution_count": 2,
   "metadata": {},
   "outputs": [],
   "source": [
    "# далее задаются параметры HOG-a, они выставлены как в статье.\n",
    "win_size = (64,128) \n",
    "block_size = (16,16)\n",
    "block_stride = (8,8)\n",
    "cell_size = (8,8)\n",
    "nbins = 9\n",
    "deriv_aperture = 1\n",
    "win_sigma = -1\n",
    "histogram_norm_type = 0\n",
    "l2_hys_threshold = 2.0000000000000001e-01\n",
    "gamma_correction = 0\n",
    "nlevels = 64\n",
    "hog = cv2.HOGDescriptor(win_size,block_size,block_stride,cell_size,nbins,deriv_aperture,win_sigma,\n",
    "                        histogram_norm_type,l2_hys_threshold,gamma_correction,nlevels)\n"
   ]
  },
  {
   "cell_type": "markdown",
   "metadata": {},
   "source": [
    "В базе INRIA размер изображений содержащих пешеходов  - 96х160(train) и 70x134(test). Человек расположен по центру.\n",
    "\n",
    "Вам нужно получить вектор признаков(дескриптор) для окна 64х128. По умолчанию compute() строит дескрипторы для всех окон размером 64х128 методом скользящего окна, с шагом win_stride по обеим осям. Но если вам нужно получить дескриптор только для одного окна 64х128, то у метода есть аргумент locations, в котором можно передать координаты верхнего левого угла интересующего вас окна (либо список таких координат)"
   ]
  },
  {
   "cell_type": "markdown",
   "metadata": {},
   "source": [
    "Например, для изображений из train извлечение центрального окна 64х128 выглядит следующим образом:"
   ]
  },
  {
   "cell_type": "code",
   "execution_count": 3,
   "metadata": {},
   "outputs": [
    {
     "data": {
      "text/plain": [
       "3780"
      ]
     },
     "execution_count": 3,
     "metadata": {},
     "output_type": "execute_result"
    }
   ],
   "source": [
    "img = cv2.imread(\"crop_000010a.png\")\n",
    "height, width = img.shape[:2]\n",
    "locations = [((width-64)//2, (height-128)//2)]\n",
    "descriptor = hog.compute(img, locations=locations)\n",
    "descriptor.size"
   ]
  },
  {
   "cell_type": "markdown",
   "metadata": {},
   "source": [
    "Изображения фона(отрицательные примеры)  - изображения произвольного размера. В обучающей выборке их 1218. Авторы HOG для обучения выбирали рандомно 10 окон 64х128 из каждого изображения  - всего 12180 примеров, не содержащих пешеходов.\n",
    "\n",
    "Для этого, например, можно посчитать дескрипторы по всему изображению с win_stride=(4,4) и потом рандомно выбрать 10 из них."
   ]
  },
  {
   "cell_type": "markdown",
   "metadata": {},
   "source": [
    "Такие манипуляции вам надо проделать в цикле со всеми изображениями из train: для изображений из папки pos/ выбирать центральное окно, а из папки neg/ - 10 рандомных окон. Собрать их в np.array  или список, как вам будет удобно ну и в файл сохранить тоже."
   ]
  },
  {
   "cell_type": "markdown",
   "metadata": {},
   "source": [
    "Для того чтобы получить ответ svm классификатора у класса HOGDescriptor есть метод detect(). Этот метод вам понадобится, чтобы строить кривые качества (DET кривые). Метод detect() работает похожим образом с compute().\n",
    "Только перед его использованием нужно задать веса SVM:\n",
    "\n",
    "    hog.setSVMDetector(hog.getDefaultPeopleDetector()) - используется веса из opencv для HOG, обученного на INRIA\n",
    "В остальном поробуйте сами с detect() разобраться. Если не получится - пишите."
   ]
  },
  {
   "cell_type": "markdown",
   "metadata": {},
   "source": [
    "Гайд по построению DET кривых позже добавлю"
   ]
  },
  {
   "cell_type": "markdown",
   "metadata": {},
   "source": [
    "# Выделим признаки на позитивных картинках"
   ]
  },
  {
   "cell_type": "code",
   "execution_count": 4,
   "metadata": {},
   "outputs": [],
   "source": [
    "win_stride = (8,8) #шаг скользящего окна в пикселях по ширине и высоте\n",
    "def imHOG(path_to_image):\n",
    "    img = cv2.imread(path_to_image)\n",
    "    height, width = img.shape[:2]\n",
    "    locations = [((width-64)//2, (height-128)//2)]\n",
    "    descriptor = hog.compute(img, locations=locations)\n",
    "    return descriptor"
   ]
  },
  {
   "cell_type": "code",
   "execution_count": 5,
   "metadata": {},
   "outputs": [
    {
     "name": "stderr",
     "output_type": "stream",
     "text": [
      "/Library/Frameworks/Python.framework/Versions/3.6/lib/python3.6/importlib/_bootstrap.py:219: RuntimeWarning: numpy.dtype size changed, may indicate binary incompatibility. Expected 96, got 88\n",
      "  return f(*args, **kwds)\n"
     ]
    }
   ],
   "source": [
    "import pandas as pd\n",
    "\n",
    "images = open(\"pos.lst\")\n",
    "string = images.read()\n",
    "images = string.split(\"\\n\")\n",
    "for i in range(len(images)):\n",
    "    images[i] = images[i][10:]\n",
    "images = images[:-1]"
   ]
  },
  {
   "cell_type": "code",
   "execution_count": null,
   "metadata": {},
   "outputs": [],
   "source": []
  },
  {
   "cell_type": "code",
   "execution_count": 6,
   "metadata": {},
   "outputs": [],
   "source": [
    "pos = []\n",
    "for i in range(len(images)):\n",
    "    #desc_file.write(str(imHOG(images[i]))+\"\\n\")\n",
    "    descriptor_current = imHOG(images[i])\n",
    "    pos.append(descriptor_current)"
   ]
  },
  {
   "cell_type": "code",
   "execution_count": 7,
   "metadata": {},
   "outputs": [],
   "source": [
    "images = open(\"pos_test.lst\")\n",
    "string = images.read()\n",
    "images = string.split(\"\\n\")\n",
    "for i in range(len(images)):\n",
    "    images[i] = images[i][9:]\n",
    "images = images[:-1]\n"
   ]
  },
  {
   "cell_type": "code",
   "execution_count": 8,
   "metadata": {},
   "outputs": [],
   "source": [
    "pos_test = []\n",
    "for i in range(len(images)):\n",
    "    #desc_file.write(str(imHOG(images[i]))+\"\\n\")\n",
    "    descriptor_current = imHOG(images[i])\n",
    "    pos_test.append(descriptor_current)"
   ]
  },
  {
   "cell_type": "markdown",
   "metadata": {},
   "source": [
    "# На негативных"
   ]
  },
  {
   "cell_type": "code",
   "execution_count": 9,
   "metadata": {},
   "outputs": [],
   "source": [
    "win_stride = (8,8) #шаг скользящего окна в пикселях по ширине и высоте\n",
    "def imHOG_neg(path_to_image):\n",
    "    img = cv2.imread(path_to_image)\n",
    "    win_stride = (4,4)\n",
    "    #получаем дескрипторы изображения и приводим их к рамеру\n",
    "    #(кол-во окон на изображении)х(рамер дескриптора одного окна)\n",
    "    #рамер дексриптора для параметров HOG как в статье - 3780\n",
    "    descriptors = hog.compute(img, win_stride).reshape(-1,3780)\n",
    "    indexes = np.random.randint(descriptors.shape[0], size=10)\n",
    "    ten_random_samples = descriptors[indexes]\n",
    "    return ten_random_samples"
   ]
  },
  {
   "cell_type": "code",
   "execution_count": 10,
   "metadata": {},
   "outputs": [],
   "source": [
    "images_neg = open(\"neg.lst\")\n",
    "string_neg = images_neg.read()\n",
    "images_neg = string_neg.split(\"\\n\")\n",
    "for i in range(len(images_neg)):\n",
    "    images_neg[i] = images_neg[i][10:]\n",
    "images_neg = images_neg[:-1]\n"
   ]
  },
  {
   "cell_type": "code",
   "execution_count": null,
   "metadata": {},
   "outputs": [],
   "source": []
  },
  {
   "cell_type": "code",
   "execution_count": 11,
   "metadata": {},
   "outputs": [],
   "source": [
    "neg = []\n",
    "for i in range(int(len(images_neg))): \n",
    "    desc_hog = imHOG_neg(images_neg[i])\n",
    "    for i in range (len(desc_hog)):\n",
    "        neg.append(desc_hog[i])"
   ]
  },
  {
   "cell_type": "code",
   "execution_count": 12,
   "metadata": {},
   "outputs": [],
   "source": [
    "images_neg = open(\"neg_test.lst\")\n",
    "string_neg = images_neg.read()\n",
    "images_neg = string_neg.split(\"\\n\")\n",
    "for i in range(len(images_neg)):\n",
    "    images_neg[i] = images_neg[i][9:]\n",
    "images_neg = images_neg[:-1]"
   ]
  },
  {
   "cell_type": "code",
   "execution_count": 13,
   "metadata": {},
   "outputs": [],
   "source": [
    "neg_test = []\n",
    "for i in range(int(len(images_neg))):   \n",
    "    desc_hog = imHOG_neg(images_neg[i])\n",
    "    for descriptor_current in desc_hog:\n",
    "        neg_test.append(descriptor_current)"
   ]
  },
  {
   "cell_type": "markdown",
   "metadata": {},
   "source": [
    "# Решейпим полученные дескрипторы pos, pos_test, neg, neg_test"
   ]
  },
  {
   "cell_type": "code",
   "execution_count": 14,
   "metadata": {},
   "outputs": [
    {
     "name": "stdout",
     "output_type": "stream",
     "text": [
      "12180 4530 2416 1132\n"
     ]
    }
   ],
   "source": [
    "print(len(neg),len(neg_test),len(pos),len(pos_test))"
   ]
  },
  {
   "cell_type": "code",
   "execution_count": 15,
   "metadata": {},
   "outputs": [],
   "source": [
    "for i in range(len(pos)):\n",
    "    for j in range(3780):\n",
    "        pos[i][j] = pos[i][j][0]\n",
    "        \n",
    "for i in range(len(pos_test)):\n",
    "    for j in range(3780):\n",
    "        pos_test[i][j] = pos_test[i][j][0]"
   ]
  },
  {
   "cell_type": "code",
   "execution_count": 5,
   "metadata": {},
   "outputs": [],
   "source": [
    "\n",
    "def Reshape_in(Q):\n",
    "    RES=[]\n",
    "    for i in range(0,9):\n",
    "        a=[] #30 array with 14 elem\n",
    "        for j in range(0,15):\n",
    "            b=[] #14 elem\n",
    "            c=[]#14 elem\n",
    "            for k in range(0,7):\n",
    "                b.append(Q[2*j*14*9+k*36+i])\n",
    "                b.append(Q[2*j*14*9+k*36+i+18])\n",
    "                c.append(Q[2*j*14*9+k*36+i+9])\n",
    "                c.append(Q[2*j*14*9+k*36+i+27])\n",
    "            a.append(b)\n",
    "            a.append(c)\n",
    "        RES.append(a)\n",
    "    return RES\n",
    "def Reshape_in1(Q):\n",
    "    RES=[]\n",
    "    for i in range(0,9):\n",
    "        a=[] #30 array with 14 elem\n",
    "        for j in range(0,15):\n",
    "            b=[] #14 elem\n",
    "            c=[]#14 elem\n",
    "            for k in range(0,7):\n",
    "                b.append(Q[2*j*14*9+k*36+i])\n",
    "                b.append(Q[2*j*14*9+k*36+i+9])\n",
    "                c.append(Q[2*j*14*9+k*36+i+18])\n",
    "                c.append(Q[2*j*14*9+k*36+i+27])\n",
    "            a.append(b)\n",
    "            a.append(c)\n",
    "        RES.append(a)\n",
    "    return RES\n"
   ]
  },
  {
   "cell_type": "code",
   "execution_count": 45,
   "metadata": {
    "scrolled": true
   },
   "outputs": [
    {
     "name": "stderr",
     "output_type": "stream",
     "text": [
      "/Library/Frameworks/Python.framework/Versions/3.6/lib/python3.6/site-packages/torch/nn/functional.py:1006: UserWarning: nn.functional.sigmoid is deprecated. Use torch.sigmoid instead.\n",
      "  warnings.warn(\"nn.functional.sigmoid is deprecated. Use torch.sigmoid instead.\")\n"
     ]
    },
    {
     "name": "stdout",
     "output_type": "stream",
     "text": [
      "Loss: 0.6101\n",
      "Loss: 0.6607\n",
      "Loss: 0.0636\n",
      "Loss: 0.3394\n"
     ]
    }
   ],
   "source": [
    "from torch.autograd import Variable\n",
    "import torch.nn.functional as F\n",
    "import torch.nn as nn\n",
    "import torch.optim as optim\n",
    "\n",
    "\n",
    "class SimpleCNN(torch.nn.Module):\n",
    "    \n",
    "    #Our batch shape for input x is (3, 32, 32)    9x30x14\n",
    "    \n",
    "    def __init__(self):\n",
    "        super(SimpleCNN, self).__init__()\n",
    "        \n",
    "        #Input channels = 3, output channels = 18\n",
    "        self.conv1 = torch.nn.Conv2d(9, 18, kernel_size=3, stride=1, padding=1)\n",
    "        self.pool = torch.nn.MaxPool2d(kernel_size=2, stride=2, padding=0)\n",
    "        self.conv2 = torch.nn.Conv2d(18, 36, kernel_size=5, stride=1, padding=1)\n",
    "        #4608 input features, 64 output features (see sizing flow below)\n",
    "        self.fc1 = torch.nn.Linear(36 * 14 * 6, 64)\n",
    "        \n",
    "        #64 input features, 10 output features for our 10 defined classes\n",
    "        self.fc2 = torch.nn.Linear(64, 1)\n",
    "        #self.dropout = nn.Dropout(dropout)\n",
    "        \n",
    "    def forward(self, x):\n",
    "        \n",
    "        #Computes the activation of the first convolution\n",
    "        #Size changes from (3, 32, 32) to (18, 32, 32)   9x30x14 to 18x30x14\n",
    "        x = F.relu(self.conv1(x))\n",
    "        #print(x.shape)\n",
    "        #print(x.shape)\n",
    "        #to 18x14x6\n",
    "        x = F.relu(self.conv2(x))   #to 36x14x6\n",
    "        #print(x.shape)\n",
    "        #print(x.shape)\n",
    "        #Size changes from (18, 32, 32) to (18, 16, 16)  36x14x6 to 36x7x3\n",
    "        x = self.pool(x)\n",
    "        #Reshape data to input to the input layer of the neural net\n",
    "        #Size changes from (18, 16, 16) to (1, 4608)\n",
    "        #Recall that the -1 infers this dimension from the other given dimension\n",
    "        #print(x.shape)\n",
    "        x = x.view(-1, 36 * 14 * 6)\n",
    "        \n",
    "        #Computes the activation of the first fully connected layer\n",
    "        #Size changes from (1, 4608) to (1, 64)\n",
    "        x = F.relu(self.fc1(x))\n",
    "        \n",
    "        #Computes the second fully connected layer (activation applied later)\n",
    "        #Size changes from (1, 64) to (1, 10)\n",
    "        x = self.fc2(x)\n",
    "        return F.sigmoid(x)\n",
    "\n",
    "model = SimpleCNN()\n",
    "criterion = nn.BCELoss()\n",
    "optimizer = optim.Adagrad(model.parameters(), lr=0.001)\n",
    "\n",
    "# Train the model\n",
    "for i in range(800):\n",
    "    # Forward pass\n",
    "    #xinput = torch.tensor(Reshape_in(neg[i]), dtype = torch.float32)\n",
    "    inputs = []\n",
    "    labels = []\n",
    "    for j in range(3):\n",
    "        inputs.append(Reshape_in(neg[9*i+3*j]))\n",
    "        labels.append([0])\n",
    "        inputs.append(Reshape_in(neg[9*i+3*j+1]))\n",
    "        labels.append([0])\n",
    "        inputs.append(Reshape_in(neg[9*i+3*j+2]))\n",
    "        labels.append([0])\n",
    "        inputs.append(Reshape_in(pos[3*i+j]))\n",
    "        labels.append([1])\n",
    "    inputs = torch.from_numpy(np.array(inputs))\n",
    "    labels = torch.tensor(labels, dtype = torch.float32)\n",
    "    #print(inputs.shape, labels)\n",
    "\n",
    "    outputs = model(inputs)\n",
    "    #print(outputs)\n",
    "\n",
    "    loss = criterion(outputs, labels)\n",
    "\n",
    "    # Backward and optimize\n",
    "    optimizer.zero_grad()\n",
    "    loss.backward()\n",
    "    optimizer.step()\n",
    "    if (i+1) % 200 == 0:\n",
    "        print ('Loss: {:.4f}' \n",
    "               .format(loss.item()))\n",
    "\n"
   ]
  },
  {
   "cell_type": "code",
   "execution_count": null,
   "metadata": {},
   "outputs": [],
   "source": []
  },
  {
   "cell_type": "markdown",
   "metadata": {},
   "source": [
    "## $$FNR = \\frac{FN}{FN+TP}$$     \n",
    "$$ FPR = \\frac{FP}{FP+TN} $$"
   ]
  },
  {
   "cell_type": "code",
   "execution_count": 68,
   "metadata": {},
   "outputs": [
    {
     "name": "stderr",
     "output_type": "stream",
     "text": [
      "/Library/Frameworks/Python.framework/Versions/3.6/lib/python3.6/site-packages/torch/nn/functional.py:1006: UserWarning: nn.functional.sigmoid is deprecated. Use torch.sigmoid instead.\n",
      "  warnings.warn(\"nn.functional.sigmoid is deprecated. Use torch.sigmoid instead.\")\n"
     ]
    }
   ],
   "source": [
    "#det FNR(FPR)\n",
    "inputs = []\n",
    "labels = []\n",
    "for i in range(1100):\n",
    "\n",
    "    inputs.append(Reshape_in(neg_test[2*i]))\n",
    "    labels.append([0])\n",
    "    inputs.append(Reshape_in(neg_test[2*i+1]))\n",
    "    labels.append([0])\n",
    "    inputs.append(Reshape_in(pos_test[i]))\n",
    "    labels.append([1])\n",
    "inputs = torch.from_numpy(np.array(inputs))\n",
    "labels = torch.tensor(labels, dtype = torch.float32)\n",
    "outputs = model(inputs)\n",
    "\n",
    "\n",
    "\n",
    "\n",
    "\n"
   ]
  },
  {
   "cell_type": "code",
   "execution_count": 69,
   "metadata": {},
   "outputs": [],
   "source": [
    "def det(neg_test, pos_test, h):\n",
    "\n",
    "    fn = 0\n",
    "    tp = 0\n",
    "    fp = 0\n",
    "    tn = 0\n",
    "    \n",
    "    for j in range(len(inputs)):\n",
    "        if outputs[j] > h:\n",
    "            if labels[j] == 1:\n",
    "                tp += 1\n",
    "            if labels[j] == 0:\n",
    "                fn += 1\n",
    "        else:\n",
    "            if labels[j] == 0:\n",
    "                tn += 1\n",
    "            if labels[j] == 1:\n",
    "                fp += 1\n",
    "    if(fn+tp & fp+tn):\n",
    "        fnr = fn/(fn+tp)\n",
    "        fpr = fp/(fp+tn)\n",
    "    else:\n",
    "        fnr=0\n",
    "        fpr=0\n",
    "    return fnr, fpr\n",
    "\n",
    "\n",
    "fpr = []  #x\n",
    "fnr = []  #y\n",
    "\n",
    "for h in np.linspace(0.1, 0.9, 200):\n",
    "    y,x = det(neg_test, pos_test, h)\n",
    "    fpr.append(x)\n",
    "    fnr.append(y)\n",
    "    #print(h)"
   ]
  },
  {
   "cell_type": "code",
   "execution_count": 76,
   "metadata": {},
   "outputs": [
    {
     "data": {
      "image/png": "[encoded data removed]",
      "text/plain": [
       "<Figure size 1440x720 with 1 Axes>"
      ]
     },
     "metadata": {},
     "output_type": "display_data"
    }
   ],
   "source": [
    "#plt.figure(figsize=(20,10))\n",
    "plt.title(\"CNN DET-curve\")\n",
    "plt.scatter(fpr, fnr)\n",
    "plt.xlabel(\"FPR\")\n",
    "plt.ylabel(\"FNR\")\n",
    "plt.grid()"
   ]
  },
  {
   "cell_type": "markdown",
   "metadata": {},
   "source": [
    "## MORE MAXPOLLING"
   ]
  },
  {
   "cell_type": "code",
   "execution_count": 55,
   "metadata": {},
   "outputs": [
    {
     "name": "stderr",
     "output_type": "stream",
     "text": [
      "/Library/Frameworks/Python.framework/Versions/3.6/lib/python3.6/site-packages/torch/nn/functional.py:1006: UserWarning: nn.functional.sigmoid is deprecated. Use torch.sigmoid instead.\n",
      "  warnings.warn(\"nn.functional.sigmoid is deprecated. Use torch.sigmoid instead.\")\n"
     ]
    },
    {
     "name": "stdout",
     "output_type": "stream",
     "text": [
      "Loss: 0.5608\n",
      "Loss: 0.8608\n",
      "Loss: 0.2442\n",
      "Loss: 0.4755\n"
     ]
    }
   ],
   "source": [
    "class SimpleCNN(torch.nn.Module):\n",
    "    \n",
    "    #Our batch shape for input x is (3, 32, 32)    9x30x14\n",
    "    \n",
    "    def __init__(self):\n",
    "        super(SimpleCNN, self).__init__()\n",
    "        self.conv1 = torch.nn.Conv2d(9, 18, kernel_size=3, stride=1, padding=1)\n",
    "        self.pool = torch.nn.MaxPool2d(kernel_size=2, stride=2, padding=0)\n",
    "        self.conv2 = torch.nn.Conv2d(18, 36, kernel_size=5, stride=1, padding=1)\n",
    "        self.fc1 = torch.nn.Linear(36 * 2 * 6, 64)\n",
    "        self.fc2 = torch.nn.Linear(64, 1)\n",
    "        #self.dropout = nn.Dropout(dropout)\n",
    "    def forward(self, x):\n",
    "        x = F.relu(self.conv1(x))\n",
    "        x = self.pool(x)\n",
    "        x = F.relu(self.conv2(x))   \n",
    "        x = self.pool(x)\n",
    "        #print(x.size())\n",
    "        x = x.view(-1, 36 * 2 * 6)\n",
    "        x = F.relu(self.fc1(x))\n",
    "        x = self.fc2(x)\n",
    "        return F.sigmoid(x)\n",
    "\n",
    "model = SimpleCNN()\n",
    "criterion = nn.BCELoss()\n",
    "optimizer = optim.Adagrad(model.parameters(), lr=0.001)\n",
    "\n",
    "# Train the model\n",
    "for i in range(800):\n",
    "    inputs = []\n",
    "    labels = []\n",
    "    for j in range(3):\n",
    "        inputs.append(Reshape_in(neg[9*i+3*j]))\n",
    "        labels.append([0])\n",
    "        inputs.append(Reshape_in(neg[9*i+3*j+1]))\n",
    "        labels.append([0])\n",
    "        inputs.append(Reshape_in(neg[9*i+3*j+2]))\n",
    "        labels.append([0])\n",
    "        inputs.append(Reshape_in(pos[3*i+j]))\n",
    "        labels.append([1])\n",
    "    inputs = torch.from_numpy(np.array(inputs))\n",
    "    labels = torch.tensor(labels, dtype = torch.float32)\n",
    "    #print(inputs.shape, labels)\n",
    "    outputs = model(inputs)\n",
    "    #print(outputs)\n",
    "    loss = criterion(outputs, labels)\n",
    "    # Backward and optimize\n",
    "    optimizer.zero_grad()\n",
    "    loss.backward()\n",
    "    optimizer.step()\n",
    "    if (i+1) % 200 == 0:\n",
    "        print ('Loss: {:.4f}' \n",
    "               .format(loss.item()))\n",
    "\n",
    "\n"
   ]
  },
  {
   "cell_type": "markdown",
   "metadata": {},
   "source": [
    "## LINERAL "
   ]
  },
  {
   "cell_type": "code",
   "execution_count": 64,
   "metadata": {},
   "outputs": [
    {
     "name": "stderr",
     "output_type": "stream",
     "text": [
      "/Library/Frameworks/Python.framework/Versions/3.6/lib/python3.6/site-packages/torch/nn/functional.py:1006: UserWarning: nn.functional.sigmoid is deprecated. Use torch.sigmoid instead.\n",
      "  warnings.warn(\"nn.functional.sigmoid is deprecated. Use torch.sigmoid instead.\")\n"
     ]
    },
    {
     "name": "stdout",
     "output_type": "stream",
     "text": [
      "Loss: 0.5779\n",
      "Loss: 0.1240\n",
      "Loss: 0.0006\n",
      "Loss: 0.1359\n"
     ]
    }
   ],
   "source": [
    "class SimpleCNN(torch.nn.Module):\n",
    "    \n",
    "    #Our batch shape for input x is (3, 32, 32)    9x30x14\n",
    "    \n",
    "    def __init__(self):\n",
    "        super(SimpleCNN, self).__init__()\n",
    "        self.pool = torch.nn.MaxPool2d(kernel_size=2, stride=2, padding=0)\n",
    "        self.fc1 = torch.nn.Linear(3780, 128)\n",
    "        self.fc2 = torch.nn.Linear(128, 32)\n",
    "        self.fc3 = torch.nn.Linear(32, 1)\n",
    "        #self.dropout = nn.Dropout(dropout)\n",
    "    def forward(self, x):\n",
    "        #print(x.size())\n",
    "        x = x.view(-1, 9*30*14)\n",
    "        x = self.fc1(x)\n",
    "        x=self.fc2(x)\n",
    "        x=self.fc3(x)\n",
    "        return F.sigmoid(x)\n",
    "\n",
    "model = SimpleCNN()\n",
    "criterion = nn.BCELoss()\n",
    "optimizer = optim.Adagrad(model.parameters(), lr=0.001)\n",
    "\n",
    "# Train the model\n",
    "for i in range(800):\n",
    "    inputs = []\n",
    "    labels = []\n",
    "    for j in range(3):\n",
    "        inputs.append(Reshape_in(neg[9*i+3*j]))\n",
    "        labels.append([0])\n",
    "        inputs.append(Reshape_in(neg[9*i+3*j+1]))\n",
    "        labels.append([0])\n",
    "        inputs.append(Reshape_in(neg[9*i+3*j+2]))\n",
    "        labels.append([0])\n",
    "        inputs.append(Reshape_in(pos[3*i+j]))\n",
    "        labels.append([1])\n",
    "    inputs = torch.from_numpy(np.array(inputs))\n",
    "    labels = torch.tensor(labels, dtype = torch.float32)\n",
    "    #print(inputs.shape, labels)\n",
    "    outputs = model(inputs)\n",
    "    #print(outputs)\n",
    "    loss = criterion(outputs, labels)\n",
    "    # Backward and optimize\n",
    "    optimizer.zero_grad()\n",
    "    loss.backward()\n",
    "    optimizer.step()\n",
    "    if (i+1) % 200 == 0:\n",
    "        print ('Loss: {:.4f}' \n",
    "               .format(loss.item()))\n",
    "\n",
    "\n"
   ]
  },
  {
   "cell_type": "code",
   "execution_count": null,
   "metadata": {},
   "outputs": [],
   "source": []
  },
  {
   "cell_type": "code",
   "execution_count": 44,
   "metadata": {},
   "outputs": [
    {
     "name": "stderr",
     "output_type": "stream",
     "text": [
      "/Library/Frameworks/Python.framework/Versions/3.6/lib/python3.6/site-packages/torch/nn/functional.py:1006: UserWarning: nn.functional.sigmoid is deprecated. Use torch.sigmoid instead.\n",
      "  warnings.warn(\"nn.functional.sigmoid is deprecated. Use torch.sigmoid instead.\")\n"
     ]
    },
    {
     "name": "stdout",
     "output_type": "stream",
     "text": [
      "Loss: 0.7213\n",
      "Loss: 0.7213\n",
      "Loss: 0.7227\n",
      "Loss: 0.7227\n"
     ]
    }
   ],
   "source": []
  },
  {
   "cell_type": "code",
   "execution_count": 34,
   "metadata": {},
   "outputs": [
    {
     "name": "stderr",
     "output_type": "stream",
     "text": [
      "/Library/Frameworks/Python.framework/Versions/3.6/lib/python3.6/site-packages/torch/nn/functional.py:1006: UserWarning: nn.functional.sigmoid is deprecated. Use torch.sigmoid instead.\n",
      "  warnings.warn(\"nn.functional.sigmoid is deprecated. Use torch.sigmoid instead.\")\n"
     ]
    }
   ],
   "source": []
  },
  {
   "cell_type": "markdown",
   "metadata": {},
   "source": [
    "## Проверим на вшивость"
   ]
  },
  {
   "cell_type": "code",
   "execution_count": null,
   "metadata": {},
   "outputs": [],
   "source": []
  },
  {
   "cell_type": "code",
   "execution_count": 3,
   "metadata": {},
   "outputs": [],
   "source": [
    "def subl_nbins(h):\n",
    "    fig, ((ax1, ax2,ax3),(ax4,ax5,ax6),(ax7,ax8,ax9)) = plt.subplots(3,3 , figsize=(20, 10), sharex=True, sharey=True)\n",
    "    print(h[0][:][:].shape)\n",
    "    ax1.axis('off')\n",
    "    ax1.imshow(h[0])\n",
    "    ax1.set_title('0-20')\n",
    "    \n",
    "    ax2.axis('off')\n",
    "    ax2.imshow(h[1])\n",
    "    ax2.set_title('20-40')\n",
    "    \n",
    "    ax3.axis('off')\n",
    "    ax3.imshow(h[2])\n",
    "    ax3.set_title('40-60')\n",
    "    \n",
    "    ax4.axis('off')\n",
    "    ax4.imshow(h[3])\n",
    "    ax4.set_title('60-80')\n",
    "    \n",
    "    ax5.axis('off')\n",
    "    ax5.imshow(h[4])\n",
    "    ax5.set_title('80-100')\n",
    "    \n",
    "    ax6.axis('off')\n",
    "    ax6.imshow(h[5])\n",
    "    ax6.set_title('100-120')\n",
    "    \n",
    "    ax7.axis('off')\n",
    "    ax7.imshow(h[6])\n",
    "    ax7.set_title('120-140')\n",
    "    \n",
    "    ax8.axis('off')\n",
    "    ax8.imshow(h[7])\n",
    "    ax8.set_title('140-160')\n",
    "    \n",
    "    ax9.axis('off')\n",
    "    ax9.imshow(h[8])\n",
    "    ax9.set_title('160-180')\n",
    "    # Rescale histogram for better display\n",
    "    \n",
    "    "
   ]
  },
  {
   "cell_type": "code",
   "execution_count": 4,
   "metadata": {},
   "outputs": [],
   "source": [
    "def Reshape_in(Q):\n",
    "    RES=[]\n",
    "    for i in range(0,9):\n",
    "        a=[] #30 array with 14 elem\n",
    "        for j in range(0,15):\n",
    "            b=[] #14 elem\n",
    "            c=[]#14 elem\n",
    "            for k in range(0,7):\n",
    "                b.append(Q[2*j*14*9+k*36+i])\n",
    "                b.append(Q[2*j*14*9+k*36+i+18])\n",
    "                c.append(Q[2*j*14*9+k*36+i+9])\n",
    "                c.append(Q[2*j*14*9+k*36+i+27])\n",
    "            a.append(b)\n",
    "            a.append(c)\n",
    "        RES.append(a)\n",
    "    return RES\n",
    "def Reshape_in_(Q):\n",
    "    RES=[]\n",
    "    for i in range(0,9):\n",
    "        a=[] #30 array with 14 elem\n",
    "        for j in range(0,7):\n",
    "            b=[] #14 elem\n",
    "            c=[]#14 elem\n",
    "            for k in range(0,15):\n",
    "                b.append(Q[2*j*30*9+k*36+i])\n",
    "                b.append(Q[2*j*30*9+k*36+i+18])\n",
    "                c.append(Q[2*j*30*9+k*36+i+9])\n",
    "                c.append(Q[2*j*30*9+k*36+i+27])\n",
    "            a.append(b)\n",
    "            a.append(c)\n",
    "        RES.append(a)\n",
    "        return RES\n",
    "def Reshape_in__(Q):\n",
    "    RES=[]\n",
    "    for i in range(0,9):\n",
    "        a=[] #30 array with 14 elem\n",
    "        for j in range(0,7):\n",
    "            b=[] #14 elem\n",
    "            c=[]#14 elem\n",
    "            for k in range(0,15):\n",
    "                b.append(Q[2*j*30*9+k*36+i])\n",
    "                b.append(Q[2*j*30*9+k*36+i+9])\n",
    "                c.append(Q[2*j*30*9+k*36+i+27])\n",
    "                c.append(Q[2*j*30*9+k*36+i+18])\n",
    "            a.append(b)\n",
    "            a.append(c)\n",
    "        RES.append(a)\n",
    "    return RES\n",
    "\n",
    "\n",
    "def Reshape_in1(Q):\n",
    "    RES=[]\n",
    "    for i in range(0,9):\n",
    "        a=[] #30 array with 14 elem\n",
    "        for j in range(0,7):\n",
    "            b=[] #14 elem\n",
    "            c=[]#14 elem\n",
    "            for k in range(0,15):\n",
    "                b.append(Q[2*j*30*9+k*36+i])\n",
    "                b.append(Q[2*j*30*9+k*36+i+9])\n",
    "                c.append(Q[2*j*30*9+k*36+i+18])\n",
    "                c.append(Q[2*j*30*9+k*36+i+27])\n",
    "            a.append(b)\n",
    "            a.append(c)\n",
    "        RES.append(a)\n",
    "    return RES\n",
    "\n",
    "\n"
   ]
  },
  {
   "cell_type": "code",
   "execution_count": null,
   "metadata": {},
   "outputs": [],
   "source": [
    "\n"
   ]
  },
  {
   "cell_type": "code",
   "execution_count": 7,
   "metadata": {},
   "outputs": [
    {
     "name": "stdout",
     "output_type": "stream",
     "text": [
      "[0.]\n",
      "0.0\n",
      "(9, 30, 14)\n",
      "(30, 14)\n",
      "(14, 30)\n"
     ]
    },
    {
     "data": {
      "image/png": "[encoded data removed]",
      "text/plain": [
       "<Figure size 432x288 with 1 Axes>"
      ]
     },
     "metadata": {},
     "output_type": "display_data"
    },
    {
     "data": {
      "image/png": "[encoded data removed]",
      "text/plain": [
       "<Figure size 1440x720 with 9 Axes>"
      ]
     },
     "metadata": {},
     "output_type": "display_data"
    },
    {
     "data": {
      "image/png": "[encoded data removed]",
      "text/plain": [
       "<Figure size 1440x720 with 9 Axes>"
      ]
     },
     "metadata": {},
     "output_type": "display_data"
    }
   ],
   "source": [
    "#try.PNG\n",
    "path='/Users/yaroslavtominin/Desktop/t.png'\n",
    "path1='/Users/yaroslavtominin/Desktop/eee.jpeg'\n",
    "img = cv2.imread(path)\n",
    "plt.imshow(img)\n",
    "win_size = (64,128) \n",
    "block_size = (16,16)\n",
    "block_stride = (8,8)\n",
    "cell_size = (8,8)\n",
    "nbins = 9\n",
    "deriv_aperture = 1\n",
    "win_sigma = -1\n",
    "histogram_norm_type = 0\n",
    "l2_hys_threshold = 2.0000000000000001e-01\n",
    "gamma_correction = 0\n",
    "nlevels = 64\n",
    "hog = cv2.HOGDescriptor(win_size,block_size,block_stride,cell_size,nbins,deriv_aperture,win_sigma,\n",
    "                        histogram_norm_type,l2_hys_threshold,gamma_correction,nlevels)\n",
    "img = cv2.imread(path)\n",
    "img1 = cv2.imread(path1)\n",
    "#plt.imshow(img)\n",
    "win_stride = (8,8)\n",
    "height, width = img.shape[:2]\n",
    "locations = [((height-128)//2, (width-64)//2)]\n",
    "descriptor = hog.compute(img, locations=locations)\n",
    "descriptor1 = hog.compute(img1, locations=locations)\n",
    "d=[]\n",
    "d1=[]\n",
    "for i in range(0,len(descriptor)):\n",
    "    d.append(descriptor[i][0])\n",
    "    d1.append(descriptor1[i][0])\n",
    "print(descriptor[3])\n",
    "print(d[3])\n",
    "\n",
    "\n",
    "hog_new=Reshape_in(d)\n",
    "hog_new1=Reshape_in1(d)\n",
    "\n",
    "\n",
    "\n",
    "h=np.array(hog_new)\n",
    "h1=np.array(hog_new1)\n",
    "\n",
    "\n",
    "\n",
    "\n",
    "print(h.shape)\n",
    "subl_nbins(h)\n",
    "subl_nbins(h1)\n",
    "\n",
    "\n"
   ]
  },
  {
   "cell_type": "code",
   "execution_count": 16,
   "metadata": {},
   "outputs": [
    {
     "name": "stdout",
     "output_type": "stream",
     "text": [
      "0.0\n",
      "0.0\n",
      "[0.0, 0.0, 0.0, 0.0, 0.0, 0.0, 0.0, 0.0, 0.0]\n",
      "[0.0, 0.0, 0.0, 0.0, 0.0, 0.0, 0.0, 0.0, 0.0, 0.0, 0.0, 0.0, 0.0, 0.0, 0.0, 0.0, 0.0, 0.0, 0.0, 0.0, 0.0, 0.0, 0.0, 0.0, 0.0, 0.0, 0.0, 0.0, 0.0, 0.0, 0.0, 0.0, 0.0, 0.0, 0.0, 0.0, 0.0, 0.0, 0.0, 0.0, 0.0, 0.0, 0.0, 0.0, 0.0, 0.0, 0.0, 0.0, 0.0, 0.0, 0.0, 0.0, 0.0, 0.0, 0.0, 0.0, 0.0, 0.0, 0.0, 0.0, 0.0, 0.0, 0.0, 0.0, 0.0, 0.0, 0.0, 0.0, 0.0, 0.0, 0.0, 0.0, 0.0, 0.0, 0.0, 0.0, 0.0, 0.0, 0.0, 0.0, 0.0, 0.0, 0.0, 0.0, 0.0, 0.0, 0.0, 0.0, 0.0, 0.0, 0.0, 0.0, 0.0, 0.0, 0.0, 0.0, 0.0, 0.0, 0.0, 0.0, 0.0, 0.0, 0.0, 0.0, 0.0, 0.0, 0.0, 0.0, 0.0, 0.0, 0.0, 0.0, 0.0, 0.0, 0.0, 0.0, 0.0, 0.0, 0.0, 0.0, 0.0, 0.0, 0.0, 0.0, 0.0, 0.0, 0.0, 0.0, 0.0, 0.0, 0.0, 0.0, 0.0, 0.0, 0.0, 0.0, 0.0, 0.0, 0.0, 0.0, 0.0, 0.0, 0.0, 0.0, 0.0, 0.0, 0.0, 0.0, 0.0, 0.0, 0.0, 0.0, 0.0, 0.0, 0.0, 0.0, 0.0, 0.0, 0.0, 0.0, 0.0, 0.0, 0.0, 0.0, 0.0, 0.0, 0.0, 0.0, 0.0, 0.0, 0.0, 0.0, 0.0, 0.0, 0.0, 0.0, 0.0, 0.0, 0.0, 0.0, 0.0, 0.0, 0.0, 0.0013323617, 0.2790018, 0.0008803615, 0.0, 0.0, 0.0, 0.0, 0.0, 0.0, 0.018946346, 0.6373616, 0.01706143, 0.0, 0.0, 0.0, 0.0, 0.0, 0.0, 0.0010817642, 0.3191651, 0.0016364554, 0.0, 0.0, 0.0, 0.0, 0.0, 0.0, 0.018756416, 0.6373616, 0.021456126, 0.0, 0.0, 0.0, 0.0, 0.0, 0.0, 0.014079997, 0.5158004, 0.01578888, 0.0, 0.0, 0.0, 0.0, 0.0, 0.0, 0.0020363566, 0.44605535, 0.003084107, 0.0, 0.0, 0.0, 0.0, 0.0, 0.0, 0.0151240695, 0.5158004, 0.01389545, 0.0, 0.0, 0.0, 0.0, 0.0, 0.0, 0.0024450116, 0.5127297, 0.0015134456, 0.0, 0.0, 0.0, 0.0, 0.0, 0.0, 0.0, 0.7046156, 0.0, 0.0, 0.0, 0.0, 0.0, 0.0, 0.0, 0.0, 0.0, 0.0, 0.0, 0.0, 0.0, 0.0, 0.0, 0.0, 0.0, 0.7046156, 0.0, 0.0, 0.0, 0.0, 0.0, 0.0, 0.0, 0.0, 0.0, 0.0, 0.0, 0.0, 0.0, 0.0, 0.0, 0.0, 0.0, 0.0, 0.0, 0.0, 0.0, 0.0, 0.0, 0.0, 0.0, 0.0, 0.0, 0.0, 0.0, 0.0, 0.0, 0.0, 0.0, 0.0, 0.0, 0.0, 0.0, 0.0, 0.0, 0.0, 0.0, 0.0, 0.0, 0.0, 0.0, 0.0, 0.0, 0.0, 0.0, 0.0, 0.0, 0.0, 0.0, 0.0, 0.0, 0.0, 0.0, 0.0, 0.0, 0.0, 0.0, 0.0, 0.0, 0.0, 0.0, 0.0, 0.0, 0.0, 0.0, 0.0, 0.0, 0.0, 0.0, 0.0, 0.0, 0.0, 0.0, 0.0, 0.0, 0.0, 0.0, 0.0, 0.0, 0.0, 0.0, 0.0, 0.0, 0.0, 0.0, 0.0, 0.0, 0.0, 0.0, 0.0, 0.0, 0.0, 0.0, 0.0, 0.0, 0.0, 0.0, 0.0, 0.0, 0.0, 0.0, 0.0, 0.0, 0.0, 0.0, 0.0, 0.0, 0.0, 0.0, 0.0, 0.0, 0.0, 0.0, 0.0, 0.0, 0.0, 0.0, 0.0, 0.0, 0.0, 0.0, 0.0, 0.0, 0.0, 0.0, 0.0, 0.0, 0.0, 0.0, 0.0, 0.0, 0.0, 0.0, 0.0, 0.0, 0.0, 0.0, 0.0, 0.0, 0.0, 0.0, 0.0, 0.0, 0.0, 0.0, 0.0, 0.0, 0.0, 0.0, 0.0, 0.0, 0.0, 0.0, 0.0, 0.0, 0.0, 0.0, 0.0, 0.0, 0.0, 0.0, 0.0, 0.0, 0.0, 0.0, 0.0, 0.0, 0.0, 0.0, 0.0, 0.0, 0.0, 0.0, 0.0, 0.0, 0.0, 0.0, 0.0, 0.0, 0.0, 0.0, 0.0, 0.0, 0.0, 0.0, 0.0, 0.0, 0.0, 0.0, 0.0, 0.0, 0.0, 0.0, 0.0, 0.0, 0.0, 0.0, 0.0, 0.0, 0.0, 0.0, 0.0, 0.0, 0.0, 0.0, 0.0, 0.0, 0.0, 0.0, 0.0, 0.0, 0.0, 0.0, 0.0, 0.0, 0.0, 0.0, 0.0, 0.0, 0.0, 0.0, 0.0, 0.0, 0.0, 0.0, 0.0, 0.0, 0.0, 0.0, 0.0, 0.0, 0.0, 0.0, 0.0, 0.0, 0.0, 0.0, 0.0, 0.0, 0.0, 0.0, 0.0, 0.0, 0.0, 0.0, 0.0, 0.0, 0.0, 0.0, 0.0, 0.0, 0.0, 0.0, 0.0, 0.0, 0.0, 0.0, 0.0, 0.0, 0.0, 0.0, 0.0, 0.0, 0.0, 0.0, 0.0, 0.0, 0.0, 0.0, 0.0, 0.0, 0.0, 0.0, 0.0, 0.0, 0.0, 0.0, 0.0, 0.0, 0.0, 0.0, 0.0, 0.0, 0.0, 0.0, 0.0, 0.0, 0.0, 0.0, 0.0, 0.0, 0.0, 0.0, 0.0, 0.0, 0.0, 0.0, 0.0, 0.0, 0.0, 0.0, 0.0, 0.0, 0.0, 0.0, 0.0, 0.0, 0.0, 0.0, 0.0, 0.0, 0.0, 0.0, 0.0, 0.0, 0.0, 0.0, 0.0, 0.0, 0.0, 0.0, 0.0, 0.0, 0.0, 0.0, 0.0, 0.0, 0.0, 0.0, 0.0, 0.0, 0.0, 0.0, 0.0, 0.0, 0.0, 0.0, 0.0, 0.0, 0.0, 0.0, 0.0, 0.0, 0.0, 0.0, 0.0, 0.0, 0.0, 0.0, 0.0, 0.0, 0.0, 0.0, 0.0, 0.0, 0.0, 0.0, 0.0, 0.0, 0.0, 0.0, 0.0, 0.0, 0.0, 0.0, 0.0, 0.0, 0.0, 0.0, 0.0, 0.0, 0.0, 0.0, 0.0, 0.0, 0.0, 0.0, 0.0, 0.0, 0.0, 0.0, 0.0, 0.0, 0.0, 0.0, 0.0, 0.0, 0.0, 0.0, 0.0, 0.0, 0.0, 0.0, 0.0, 0.0, 0.0, 0.0, 0.0, 0.0, 0.0, 0.0, 0.0, 0.0, 0.0, 0.0, 0.0, 0.0, 0.0, 0.0, 0.0, 0.0, 0.0, 0.0, 0.0, 0.0, 0.0, 0.0, 0.0, 0.0, 0.0, 0.0, 0.0, 0.0, 0.0, 0.0, 0.0, 0.0, 0.0, 0.0, 0.0, 0.0, 0.0, 0.0, 0.0, 0.0, 0.0, 0.0, 0.0, 0.0, 0.0, 0.0, 0.0, 0.0, 0.0, 0.00060512085, 0.27907297, 0.00046033834, 0.0, 0.0, 0.0, 0.0, 0.0, 0.0, 0.014332191, 0.6374308, 0.0126978215, 0.0, 0.0, 0.0, 0.0, 0.0, 0.0, 0.000789072, 0.319446, 0.0008519032, 0.0, 0.0, 0.0, 0.0, 0.0, 0.0, 0.018413048, 0.6374308, 0.019102737, 0.0, 0.0, 0.0, 0.0, 0.0, 0.0, 0.011893082, 0.5159693, 0.0126874475, 0.0, 0.0, 0.0, 0.0, 0.0, 0.0, 0.0018630303, 0.44657758, 0.002540371, 0.0, 0.0, 0.0, 0.0, 0.0, 0.0, 0.016345574, 0.5159693, 0.014989029, 0.0, 0.0, 0.0, 0.0, 0.0, 0.0, 0.0026850733, 0.5120072, 0.0020458798, 0.0, 0.0, 0.0, 0.0, 0.0, 0.0, 0.0, 0.7046156, 0.0, 0.0, 0.0, 0.0, 0.0, 0.0, 0.0, 0.0, 0.0, 0.0, 0.0, 0.0, 0.0, 0.0, 0.0, 0.0, 0.0, 0.7046156, 0.0, 0.0, 0.0, 0.0, 0.0, 0.0, 0.0, 0.0, 0.0, 0.0, 0.0, 0.0, 0.0, 0.0, 0.0, 0.0, 0.0, 0.0, 0.0, 0.0, 0.0, 0.0, 0.0, 0.0, 0.0, 0.0, 0.0, 0.0, 0.0, 0.0, 0.0, 0.0, 0.0, 0.0, 0.0, 0.0, 0.0, 0.0, 0.0, 0.0, 0.0, 0.0, 0.0, 0.0, 0.0, 0.0, 0.0, 0.0, 0.0, 0.0, 0.0, 0.0, 0.0, 0.0, 0.0, 0.0, 0.0, 0.0, 0.0, 0.0, 0.0, 0.0, 0.0, 0.0, 0.0, 0.0, 0.0, 0.0, 0.0, 0.0, 0.0, 0.0, 0.0, 0.0, 0.0, 0.0, 0.0, 0.0, 0.0, 0.0, 0.0, 0.0, 0.0, 0.0, 0.0, 0.0, 0.0, 0.0, 0.0, 0.0, 0.0, 0.0, 0.0, 0.0, 0.0, 0.0, 0.0, 0.0, 0.0, 0.0, 0.0, 0.0, 0.0, 0.0, 0.0, 0.0, 0.0, 0.0, 0.0, 0.0, 0.0, 0.0, 0.0, 0.0, 0.0, 0.0, 0.0, 0.0, 0.0, 0.0, 0.0, 0.0, 0.0, 0.0, 0.0, 0.0, 0.0, 0.0, 0.0, 0.0, 0.0, 0.0, 0.0, 0.0, 0.0, 0.0, 0.0, 0.0, 0.0, 0.0, 0.0, 0.0, 0.0, 0.0, 0.0, 0.0, 0.0, 0.0, 0.0, 0.0, 0.0, 0.0, 0.0, 0.0, 0.0, 0.0, 0.0, 0.0, 0.0, 0.0, 0.0, 0.0, 0.0, 0.0, 0.0, 0.0, 0.0, 0.0, 0.0, 0.0, 0.0, 0.0, 0.0, 0.0, 0.0, 0.0, 0.0, 0.0, 0.0, 0.0, 0.0, 0.0, 0.0, 0.0, 0.0, 0.0, 0.0, 0.0, 0.0, 0.0, 0.0, 0.0, 0.0, 0.0, 0.0, 0.0, 0.0, 0.0, 0.0, 0.0, 0.0, 0.0, 0.0, 0.0, 0.0, 0.0, 0.0, 0.0, 0.0, 0.0, 0.0, 0.0, 0.0, 0.0, 0.0, 0.0, 0.0, 0.0, 0.0, 0.0, 0.0, 0.0, 0.0, 0.0, 0.0, 0.0, 0.0, 0.0, 0.0, 0.0, 0.0, 0.0, 0.0, 0.0, 0.0, 0.0, 0.0, 0.0, 0.0, 0.0, 0.0, 0.0, 0.0, 0.0, 0.0, 0.0, 0.0, 0.0, 0.0, 0.0, 0.0, 0.0, 0.0, 0.0, 0.0, 0.0, 0.0, 0.0, 0.0, 0.0, 0.0, 0.0, 0.0, 0.0, 0.0, 0.0, 0.0, 0.0, 0.0, 0.0, 0.0, 0.0, 0.0, 0.0, 0.0, 0.0, 0.0, 0.0, 0.0, 0.0, 0.0, 0.0, 0.0, 0.0, 0.0, 0.0, 0.0, 0.0, 0.0, 0.0, 0.0, 0.0, 0.0, 0.0, 0.0, 0.0, 0.0, 0.0, 0.0, 0.0, 0.0, 0.0, 0.0, 0.0, 0.0, 0.0, 0.0, 0.0, 0.0, 0.0, 0.0, 0.0, 0.0, 0.0, 0.0, 0.0, 0.0, 0.0, 0.0, 0.0, 0.0, 0.0, 0.0, 0.0, 0.0, 0.0, 0.0, 0.0, 0.0, 0.0, 0.0, 0.0, 0.0, 0.0, 0.0, 0.0, 0.0, 0.0, 0.0, 0.0, 0.0, 0.0, 0.0, 0.0, 0.0, 0.0, 0.0, 0.0, 0.0, 0.0, 0.0, 0.0, 0.0, 0.0, 0.0, 0.0, 0.0, 0.0, 0.0, 0.0, 0.0, 0.0, 0.0, 0.0, 0.0, 0.0, 0.0, 0.0, 0.0, 0.0, 0.0, 0.0, 0.0, 0.0, 0.0, 0.0, 0.0, 0.0, 0.0, 0.0, 0.0, 0.0, 0.0, 0.0, 0.0, 0.0, 0.0, 0.0, 0.0, 0.0, 0.0, 0.0, 0.0, 0.0, 0.0, 0.0, 0.0, 0.0, 0.0, 0.0, 0.0, 0.0, 0.0, 0.0, 0.0, 0.0, 0.0, 0.0, 0.0, 0.0, 0.0, 0.0, 0.0, 0.0, 0.0, 0.0, 0.0, 0.0, 0.0, 0.0, 0.0, 0.0, 0.0, 0.0, 0.0, 0.0, 0.0, 0.0, 0.0, 0.0, 0.0, 0.0, 0.0, 0.0, 0.0, 0.0, 0.0, 0.0, 0.0, 0.0, 0.0, 0.0, 0.0, 0.0, 0.0, 0.0, 0.0, 0.0, 0.001682871, 0.27867314, 0.0012892537, 0.0, 0.0, 0.0, 0.0, 0.0, 0.0, 0.022592241, 0.63693964, 0.021831306, 0.0, 0.0, 0.0, 0.0, 0.0, 0.0, 0.00096901925, 0.32026386, 0.0015286107, 0.0, 0.0, 0.0, 0.0, 0.0, 0.0, 0.021809064, 0.63693964, 0.023631634, 0.0, 0.0, 0.0, 0.0, 0.0, 0.0, 0.014254833, 0.5153243, 0.016345425, 0.0, 0.0, 0.0, 0.0, 0.0, 0.0, 0.0013236931, 0.44852087, 0.0021406936, 0.0, 0.0, 0.0, 0.0, 0.0, 0.0, 0.021060392, 0.5153243, 0.018340236, 0.0, 0.0, 0.0, 0.0, 0.0, 0.0, 0.004222453, 0.5111576, 0.0027961566, 0.0, 0.0, 0.0, 0.0, 0.0, 0.0, 0.0, 0.7046156, 0.0, 0.0, 0.0, 0.0, 0.0, 0.0, 0.0, 0.0, 0.0, 0.0, 0.0, 0.0, 0.0, 0.0, 0.0, 0.0, 0.0, 0.7046156, 0.0, 0.0, 0.0, 0.0, 0.0, 0.0, 0.0, 0.0, 0.0, 0.0, 0.0, 0.0, 0.0, 0.0, 0.0, 0.0, 0.0, 0.0, 0.0, 0.0, 0.0, 0.0, 0.0, 0.0, 0.0, 0.0, 0.0, 0.0, 0.0, 0.0, 0.0, 0.0, 0.0, 0.0, 0.0, 0.0, 0.0, 0.0, 0.0, 0.0, 0.0, 0.0, 0.0, 0.0, 0.0, 0.0, 0.0, 0.0, 0.0, 0.0, 0.0, 0.0, 0.0, 0.0, 0.0, 0.0, 0.0, 0.0, 0.0, 0.0, 0.0, 0.0, 0.0, 0.0, 0.0, 0.0, 0.0, 0.0, 0.0, 0.0, 0.0, 0.0, 0.0, 0.0, 0.0, 0.0, 0.0, 0.0, 0.0, 0.0, 0.0, 0.0, 0.0, 0.0, 0.0, 0.0, 0.0, 0.0, 0.0, 0.0, 0.0, 0.0, 0.0, 0.0, 0.0, 0.0, 0.0, 0.0, 0.0, 0.0, 0.0, 0.0, 0.0, 0.0, 0.0, 0.0, 0.0, 0.0, 0.0, 0.0, 0.0, 0.0, 0.0, 0.0, 0.0, 0.0, 0.0, 0.0, 0.0, 0.0, 0.0, 0.0, 0.0, 0.0, 0.0, 0.0, 0.0, 0.0, 0.0, 0.0, 0.0, 0.0, 0.0, 0.0, 0.0, 0.0, 0.0, 0.0, 0.0, 0.0, 0.0, 0.0, 0.0, 0.0, 0.0, 0.0, 0.0, 0.0, 0.0, 0.0, 0.0, 0.0, 0.0, 0.0, 0.0, 0.0, 0.0, 0.0, 0.0, 0.0, 0.0, 0.0, 0.0, 0.0, 0.0, 0.0, 0.0, 0.0, 0.0, 0.0, 0.0, 0.0, 0.0, 0.0, 0.0, 0.0, 0.0, 0.0, 0.0, 0.0, 0.0, 0.0, 0.0, 0.0, 0.0, 0.0, 0.0, 0.0, 0.0, 0.0, 0.0, 0.0, 0.0, 0.0, 0.0, 0.0, 0.0, 0.0, 0.0, 0.0, 0.0, 0.0, 0.0, 0.0, 0.0, 0.0, 0.0, 0.0, 0.0, 0.0, 0.0, 0.0, 0.0, 0.0, 0.0, 0.0, 0.0, 0.0, 0.0, 0.0, 0.0, 0.0, 0.0, 0.0, 0.0, 0.0, 0.0, 0.0, 0.0, 0.0, 0.0, 0.0, 0.0, 0.0, 0.0, 0.0, 0.0, 0.0, 0.0, 0.0, 0.0, 0.0, 0.0, 0.0, 0.0, 0.0, 0.0, 0.0, 0.0, 0.0, 0.0, 0.0, 0.0, 0.0, 0.0, 0.0, 0.0, 0.0, 0.0, 0.0, 0.0, 0.0, 0.0, 0.0, 0.0, 0.0, 0.0, 0.0, 0.0, 0.0, 0.0, 0.0, 0.0, 0.0, 0.0, 0.0, 0.0, 0.0, 0.0, 0.0, 0.0, 0.0, 0.0, 0.0, 0.0, 0.0, 0.0, 0.0, 0.0, 0.0, 0.0, 0.0, 0.0, 0.0, 0.0, 0.0, 0.0, 0.0, 0.0, 0.0, 0.0, 0.0, 0.0, 0.0, 0.0, 0.0, 0.0, 0.0, 0.0, 0.0, 0.0, 0.0, 0.0, 0.0, 0.0, 0.0, 0.0, 0.0, 0.0, 0.0, 0.0, 0.0, 0.0, 0.0, 0.0, 0.0, 0.0, 0.0, 0.0, 0.0, 0.0, 0.0, 0.0, 0.0, 0.0, 0.0, 0.0, 0.0, 0.0, 0.0, 0.0, 0.0, 0.0, 0.0, 0.0, 0.0, 0.0, 0.0, 0.0, 0.0, 0.0, 0.0, 0.0, 0.0, 0.0, 0.0, 0.0, 0.0, 0.0, 0.0, 0.0, 0.0, 0.0, 0.0, 0.0, 0.0, 0.0, 0.0, 0.0, 0.0, 0.0, 0.0, 0.0, 0.0, 0.0, 0.0, 0.0, 0.0, 0.0, 0.0, 0.0, 0.0, 0.0, 0.0, 0.0, 0.0, 0.0, 0.0, 0.0, 0.0, 0.0, 0.0, 0.0, 0.0, 0.0, 0.0, 0.0, 0.0, 0.0, 0.0, 0.0, 0.0, 0.0, 0.0, 0.0, 0.0, 0.0, 0.0, 0.0, 0.0, 0.0, 0.0, 0.0, 0.0, 0.0, 0.0, 0.0, 0.0, 0.0, 0.0, 0.0, 0.0, 0.0, 0.0, 0.0, 0.0, 0.0, 0.0, 0.0, 0.0, 0.0, 0.0, 0.0, 0.0, 0.0, 0.0, 0.0, 0.0, 0.0, 0.0, 0.0, 0.0, 0.0, 0.0, 0.0, 0.0, 0.0, 0.0, 0.0007336637, 0.27884832, 0.0005431148, 0.0, 0.0, 0.0, 0.0, 0.0, 0.0, 0.015914666, 0.6375081, 0.015292562, 0.0, 0.0, 0.0, 0.0, 0.0, 0.0, 0.0009001626, 0.3192067, 0.0012486249, 0.0, 0.0, 0.0, 0.0, 0.0, 0.0, 0.016237132, 0.6375081, 0.019965202, 0.0, 0.0, 0.0, 0.0, 0.0, 0.0, 0.014760506, 0.5161656, 0.016291028, 0.0, 0.0, 0.0, 0.0, 0.0, 0.0, 0.0028583584, 0.4442163, 0.0035850874, 0.0, 0.0, 0.0, 0.0, 0.0, 0.0, 0.0132495, 0.5161656, 0.014613335, 0.0, 0.0, 0.0, 0.0, 0.0, 0.0, 0.002102506, 0.51357687, 0.0019868256, 0.0, 0.0, 0.0, 0.0, 0.0, 0.0, 0.0, 0.7046156, 0.0, 0.0, 0.0, 0.0, 0.0, 0.0, 0.0, 0.0, 0.0, 0.0, 0.0, 0.0, 0.0, 0.0, 0.0, 0.0, 0.0, 0.7046156, 0.0, 0.0, 0.0, 0.0, 0.0, 0.0, 0.0, 0.0, 0.0, 0.0, 0.0, 0.0, 0.0, 0.0, 0.0, 0.0, 0.0, 0.0, 0.0, 0.0, 0.0, 0.0, 0.0, 0.0, 0.0, 0.0, 0.0, 0.0, 0.0, 0.0, 0.0, 0.0, 0.0, 0.0, 0.0, 0.0, 0.0, 0.0, 0.0, 0.0, 0.0, 0.0, 0.0, 0.0, 0.0, 0.0, 0.0, 0.0, 0.0, 0.0, 0.0, 0.0, 0.0, 0.0, 0.0, 0.0, 0.0, 0.0, 0.0, 0.0, 0.0, 0.0, 0.0, 0.0, 0.0, 0.0, 0.0, 0.0, 0.0, 0.0, 0.0, 0.0, 0.0, 0.0, 0.0, 0.0, 0.0, 0.0, 0.0, 0.0, 0.0, 0.0, 0.0, 0.0, 0.0, 0.0, 0.0, 0.0, 0.0, 0.0, 0.0, 0.0, 0.0, 0.0, 0.0, 0.0, 0.0, 0.0, 0.0, 0.0, 0.0, 0.0, 0.0, 0.0, 0.0, 0.0, 0.0, 0.0, 0.0, 0.0, 0.0, 0.0, 0.0, 0.0, 0.0, 0.0, 0.0, 0.0, 0.0, 0.0, 0.0, 0.0, 0.0, 0.0, 0.0, 0.0, 0.0, 0.0, 0.0, 0.0, 0.0, 0.0, 0.0, 0.0, 0.0, 0.0, 0.0, 0.0, 0.0, 0.0, 0.0, 0.0, 0.0, 0.0, 0.0, 0.0, 0.0, 0.0, 0.0, 0.0, 0.0, 0.0, 0.0, 0.0, 0.0, 0.0, 0.0, 0.0, 0.0, 0.0, 0.0, 0.0, 0.0, 0.0, 0.0, 0.0, 0.0, 0.0, 0.0, 0.0, 0.0, 0.0, 0.0, 0.0, 0.0, 0.0, 0.0, 0.0, 0.0, 0.0, 0.0, 0.0, 0.0, 0.0, 0.0, 0.0, 0.0, 0.0, 0.0, 0.0, 0.0, 0.0, 0.0, 0.0, 0.0, 0.0, 0.0, 0.0, 0.0, 0.0, 0.0, 0.0, 0.0, 0.0, 0.0, 0.0, 0.0, 0.0, 0.0, 0.0, 0.0, 0.0, 0.0, 0.0, 0.0, 0.0, 0.0, 0.0, 0.0, 0.0, 0.0, 0.0, 0.0, 0.0, 0.0, 0.0, 0.0, 0.0, 0.0, 0.0, 0.0, 0.0, 0.0, 0.0, 0.0, 0.0, 0.0, 0.0, 0.0, 0.0, 0.0, 0.0, 0.0, 0.0, 0.0, 0.0, 0.0, 0.0, 0.0, 0.0, 0.0, 0.0, 0.0, 0.0, 0.0, 0.0, 0.0, 0.0, 0.0, 0.0, 0.0, 0.0, 0.0, 0.0, 0.0, 0.0, 0.0, 0.0, 0.0, 0.0, 0.0, 0.0, 0.0, 0.0, 0.0, 0.0, 0.0, 0.0, 0.0, 0.0, 0.0, 0.0, 0.0, 0.0, 0.0, 0.0, 0.0, 0.0, 0.0, 0.0, 0.0, 0.0, 0.0, 0.0, 0.0, 0.0, 0.0, 0.0, 0.0, 0.0, 0.0, 0.0, 0.0, 0.0, 0.0, 0.0, 0.0, 0.0, 0.0, 0.0, 0.0, 0.0, 0.0, 0.0, 0.0, 0.0, 0.0, 0.0, 0.0, 0.0, 0.0, 0.0, 0.0, 0.0, 0.0, 0.0, 0.0, 0.0, 0.0, 0.0, 0.0, 0.0, 0.0, 0.0, 0.0, 0.0, 0.0, 0.0, 0.0, 0.0, 0.0, 0.0, 0.0, 0.0, 0.0, 0.0, 0.0, 0.0, 0.0, 0.0, 0.0, 0.0, 0.0, 0.0, 0.0, 0.0, 0.0, 0.0, 0.0, 0.0, 0.0, 0.0, 0.0, 0.0, 0.0, 0.0, 0.0, 0.0, 0.0, 0.0, 0.0, 0.0, 0.0, 0.0, 0.0, 0.0, 0.0, 0.0, 0.0, 0.0, 0.0, 0.0, 0.0, 0.0, 0.0, 0.0, 0.0, 0.0, 0.0, 0.0, 0.0, 0.0, 0.0, 0.0, 0.0, 0.0, 0.0, 0.0, 0.0, 0.0, 0.0, 0.0, 0.0, 0.0, 0.0, 0.0, 0.0, 0.0, 0.0, 0.0, 0.0, 0.0, 0.0, 0.0, 0.0, 0.0, 0.0, 0.0, 0.0, 0.0, 0.0, 0.0, 0.0, 0.0, 0.0, 0.0, 0.0, 0.0, 0.0, 0.0, 0.0, 0.0, 0.0, 0.0, 0.0, 0.0, 0.0, 0.0, 0.0, 0.0, 0.0, 0.0, 0.0, 0.0, 0.0, 0.0, 0.0, 0.0, 0.0007612462, 0.27869913, 0.00068730285, 0.0, 0.0, 0.0, 0.0, 0.0, 0.0, 0.017515725, 0.6373319, 0.015655652, 0.0, 0.0, 0.0, 0.0, 0.0, 0.0, 0.0010050122, 0.31989193, 0.0009778948, 0.0, 0.0, 0.0, 0.0, 0.0, 0.0, 0.018563697, 0.6373319, 0.0186924, 0.0, 0.0, 0.0, 0.0, 0.0, 0.0, 0.015421558, 0.5158979, 0.01391237, 0.0, 0.0, 0.0, 0.0, 0.0, 0.0, 0.0026670916, 0.4460366, 0.0024381166, 0.0, 0.0, 0.0, 0.0, 0.0, 0.0, 0.015580669, 0.5158979, 0.015608024, 0.0, 0.0, 0.0, 0.0, 0.0, 0.0, 0.0024822776, 0.51249814, 0.0025238255, 0.0, 0.0, 0.0, 0.0, 0.0, 0.0, 0.0, 0.7046156, 0.0, 0.0, 0.0, 0.0, 0.0, 0.0, 0.0, 0.0, 0.0, 0.0, 0.0, 0.0, 0.0, 0.0, 0.0, 0.0, 0.0, 0.7046156, 0.0, 0.0, 0.0, 0.0, 0.0, 0.0, 0.0, 0.0, 0.0, 0.0, 0.0, 0.0, 0.0, 0.0, 0.0, 0.0, 0.0, 0.0, 0.0, 0.0, 0.0, 0.0, 0.0, 0.0, 0.0, 0.0, 0.0, 0.0, 0.0, 0.0, 0.0, 0.0, 0.0, 0.0, 0.0, 0.0, 0.0, 0.0, 0.0, 0.0, 0.0, 0.0, 0.0, 0.0, 0.0, 0.0, 0.0, 0.0, 0.0, 0.0, 0.0, 0.0, 0.0, 0.0, 0.0, 0.0, 0.0, 0.0, 0.0, 0.0, 0.0, 0.0, 0.0, 0.0, 0.0, 0.0, 0.0, 0.0, 0.0, 0.0, 0.0, 0.0, 0.0, 0.0, 0.0, 0.0, 0.0, 0.0, 0.0, 0.0, 0.0, 0.0, 0.0, 0.0, 0.0, 0.0, 0.0, 0.0, 0.0, 0.0, 0.0, 0.0, 0.0, 0.0, 0.0, 0.0, 0.0, 0.0, 0.0, 0.0, 0.0, 0.0, 0.0, 0.0, 0.0, 0.0, 0.0, 0.0, 0.0, 0.0, 0.0, 0.0, 0.0, 0.0, 0.0, 0.0, 0.0, 0.0, 0.0, 0.0, 0.0, 0.0, 0.0, 0.0, 0.0, 0.0, 0.0, 0.0, 0.0, 0.0, 0.0, 0.0, 0.0, 0.0, 0.0, 0.0, 0.0, 0.0, 0.0, 0.0, 0.0, 0.0, 0.0, 0.0, 0.0, 0.0, 0.0, 0.0, 0.0, 0.0, 0.0, 0.0, 0.0, 0.0, 0.0, 0.0, 0.0, 0.0, 0.0, 0.0, 0.0, 0.0, 0.0, 0.0, 0.0, 0.0, 0.0, 0.0, 0.0, 0.0, 0.0, 0.0, 0.0, 0.0, 0.0, 0.0, 0.0, 0.0, 0.0, 0.0, 0.0, 0.0, 0.0, 0.0, 0.0, 0.0, 0.0, 0.0, 0.0, 0.0, 0.0, 0.0, 0.0, 0.0, 0.0, 0.0, 0.0, 0.0, 0.0, 0.0, 0.0, 0.0, 0.0, 0.0, 0.0, 0.0, 0.0, 0.0, 0.0, 0.0, 0.0, 0.0, 0.0, 0.0, 0.0, 0.0, 0.0, 0.0, 0.0, 0.0, 0.0, 0.0, 0.0, 0.0, 0.0, 0.0, 0.0, 0.0, 0.0, 0.0, 0.0, 0.0, 0.0, 0.0, 0.0, 0.0, 0.0, 0.0, 0.0, 0.0, 0.0, 0.0, 0.0, 0.0, 0.0, 0.0, 0.0, 0.0, 0.0, 0.0, 0.0, 0.0, 0.0, 0.0, 0.0, 0.0, 0.0, 0.0, 0.0, 0.0, 0.0, 0.0, 0.0, 0.0, 0.0, 0.0, 0.0, 0.0, 0.0, 0.0, 0.0, 0.0, 0.0, 0.0, 0.0, 0.0, 0.0, 0.0, 0.0, 0.0, 0.0, 0.0, 0.0, 0.0, 0.0, 0.0, 0.0, 0.0, 0.0, 0.0, 0.0, 0.0, 0.0, 0.0, 0.0, 0.0, 0.0, 0.0, 0.0, 0.0, 0.0, 0.0, 0.0, 0.0, 0.0, 0.0, 0.0, 0.0, 0.0, 0.0, 0.0, 0.0, 0.0, 0.0, 0.0, 0.0, 0.0, 0.0, 0.0, 0.0, 0.0, 0.0, 0.0, 0.0, 0.0, 0.0, 0.0, 0.0, 0.0, 0.0, 0.0, 0.0, 0.0, 0.0, 0.0, 0.0, 0.0, 0.0, 0.0, 0.0, 0.0, 0.0, 0.0, 0.0, 0.0, 0.0, 0.0, 0.0, 0.0, 0.0, 0.0, 0.0, 0.0, 0.0, 0.0, 0.0, 0.0, 0.0, 0.0, 0.0, 0.0, 0.0, 0.0, 0.0, 0.0, 0.0, 0.0, 0.0, 0.0, 0.0, 0.0, 0.0, 0.0, 0.0, 0.0, 0.0, 0.0, 0.0, 0.0, 0.0, 0.0, 0.0, 0.0, 0.0, 0.0, 0.0, 0.0, 0.0, 0.0, 0.0, 0.0, 0.0, 0.0, 0.0, 0.0, 0.0, 0.0, 0.0, 0.0, 0.0, 0.0, 0.0, 0.0, 0.0, 0.0, 0.0, 0.0, 0.0, 0.0, 0.0, 0.0, 0.0, 0.0, 0.0, 0.0, 0.0, 0.0, 0.0, 0.0, 0.0, 0.0, 0.0, 0.0, 0.0, 0.0, 0.0, 0.0, 0.0, 0.0, 0.0, 0.0, 0.0, 0.0, 0.0, 0.0, 0.0, 0.0, 0.0, 0.0, 0.0, 0.0, 0.0, 0.0, 0.0, 0.0, 0.0, 0.0, 0.0, 0.0010959852, 0.278163, 0.001268123, 0.0, 0.0, 0.0, 0.0, 0.0, 0.0, 0.016507443, 0.63751805, 0.018369079, 0.0, 0.0, 0.0, 0.0, 0.0, 0.0, 0.0010783256, 0.31956443, 0.0011088554, 0.0, 0.0, 0.0, 0.0, 0.0, 0.0, 0.018386884, 0.63751805, 0.01809227, 0.0, 0.0, 0.0, 0.0, 0.0, 0.0, 0.011430644, 0.51568323, 0.0118890125, 0.0, 0.0, 0.0, 0.0, 0.0, 0.0, 0.0013082472, 0.44720066, 0.0011446035, 0.0, 0.0, 0.0, 0.0, 0.0, 0.0, 0.013941698, 0.51568323, 0.013723603, 0.0, 0.0, 0.0, 0.0, 0.0, 0.0, 0.0020301754, 0.5121891, 0.0019024424, 0.0, 0.0, 0.0, 0.0, 0.0, 0.0, 0.0, 0.7046156, 0.0, 0.0, 0.0, 0.0, 0.0, 0.0, 0.0, 0.0, 0.0, 0.0, 0.0, 0.0, 0.0, 0.0, 0.0, 0.0, 0.0, 0.7046156, 0.0, 0.0, 0.0, 0.0, 0.0, 0.0, 0.0, 0.0, 0.0, 0.0, 0.0, 0.0, 0.0, 0.0, 0.0, 0.0, 0.0, 0.0, 0.0, 0.0, 0.0, 0.0, 0.0, 0.0, 0.0, 0.0, 0.0, 0.0, 0.0, 0.0, 0.0, 0.0, 0.0, 0.0, 0.0, 0.0, 0.0, 0.0, 0.0, 0.0, 0.0, 0.0, 0.0, 0.0, 0.0, 0.0, 0.0, 0.0, 0.0, 0.0, 0.0, 0.0, 0.0, 0.0, 0.0, 0.0, 0.0, 0.0, 0.0, 0.0, 0.0, 0.0, 0.0, 0.0, 0.0, 0.0, 0.0, 0.0, 0.0, 0.0, 0.0, 0.0, 0.0, 0.0, 0.0, 0.0, 0.0, 0.0, 0.0, 0.0, 0.0, 0.0, 0.0, 0.0, 0.0, 0.0, 0.0, 0.0, 0.0, 0.0, 0.0, 0.0, 0.0, 0.0, 0.0, 0.0, 0.0, 0.0, 0.0, 0.0, 0.0, 0.0, 0.0, 0.0, 0.0, 0.0, 0.0, 0.0, 0.0, 0.0, 0.0, 0.0, 0.0, 0.0, 0.0, 0.0, 0.0, 0.0, 0.0, 0.0, 0.0, 0.0, 0.0, 0.0, 0.0, 0.0, 0.0, 0.0, 0.0, 0.0, 0.0, 0.0, 0.0, 0.0, 0.0, 0.0, 0.0, 0.0, 0.0, 0.0, 0.0, 0.0, 0.0, 0.0, 0.0, 0.0, 0.0, 0.0, 0.0, 0.0, 0.0, 0.0, 0.0, 0.0, 0.0, 0.0, 0.0, 0.0, 0.0, 0.0, 0.0, 0.0, 0.0, 0.0, 0.0, 0.0, 0.0, 0.0, 0.0, 0.0, 0.0, 0.0, 0.0, 0.0, 0.0, 0.0, 0.0, 0.0, 0.0, 0.0, 0.0, 0.0, 0.0, 0.0, 0.0, 0.0, 0.0, 0.0, 0.0, 0.0, 0.0, 0.0, 0.0, 0.0, 0.0, 0.0, 0.0, 0.0, 0.0, 0.0, 0.0, 0.0, 0.0, 0.0, 0.0, 0.0, 0.0, 0.0, 0.0, 0.0, 0.0, 0.0, 0.0, 0.0, 0.0, 0.0, 0.0, 0.0, 0.0, 0.0, 0.0, 0.0, 0.0, 0.0, 0.0, 0.0, 0.0, 0.0, 0.0, 0.0, 0.0, 0.0, 0.0, 0.0, 0.0, 0.0, 0.0, 0.0, 0.0, 0.0, 0.0, 0.0, 0.0, 0.0, 0.0, 0.0, 0.0, 0.0, 0.0, 0.0, 0.0, 0.0, 0.0, 0.0, 0.0, 0.0, 0.0, 0.0, 0.0, 0.0, 0.0, 0.0, 0.0, 0.0, 0.0, 0.0, 0.0, 0.0, 0.0, 0.0, 0.0, 0.0, 0.0, 0.0, 0.0, 0.0, 0.0, 0.0, 0.0, 0.0, 0.0, 0.0, 0.0, 0.0, 0.0, 0.0, 0.0, 0.0, 0.0, 0.0, 0.0, 0.0, 0.0, 0.0, 0.0, 0.0, 0.0, 0.0, 0.0, 0.0, 0.0, 0.0, 0.0, 0.0, 0.0, 0.0, 0.0, 0.0, 0.0, 0.0, 0.0, 0.0, 0.0, 0.0, 0.0, 0.0, 0.0, 0.0, 0.0, 0.0, 0.0, 0.0, 0.0, 0.0, 0.0, 0.0, 0.0, 0.0, 0.0, 0.0, 0.0, 0.0, 0.0, 0.0, 0.0, 0.0, 0.0, 0.0, 0.0, 0.0, 0.0, 0.0, 0.0, 0.0, 0.0, 0.0, 0.0, 0.0, 0.0, 0.0, 0.0, 0.0, 0.0, 0.0, 0.0, 0.0, 0.0, 0.0, 0.0, 0.0, 0.0, 0.0, 0.0, 0.0, 0.0, 0.0, 0.0, 0.0, 0.0, 0.0, 0.0, 0.0, 0.0, 0.0, 0.0, 0.0, 0.0, 0.0, 0.0, 0.0, 0.0, 0.0, 0.0, 0.0, 0.0, 0.0, 0.0, 0.0, 0.0, 0.0, 0.0, 0.0, 0.0, 0.0, 0.0, 0.0, 0.0, 0.0, 0.0, 0.0, 0.0, 0.0, 0.0, 0.0, 0.0, 0.0, 0.0, 0.0, 0.0, 0.0, 0.0, 0.0, 0.0, 0.0, 0.0, 0.0, 0.0, 0.0, 0.0, 0.0, 0.0, 0.0, 0.0, 0.0, 0.0, 0.0, 0.0, 0.0, 0.0, 0.0, 0.0, 0.0, 0.0, 0.0, 0.0, 0.0, 0.0, 0.0, 0.0, 0.0, 0.0, 0.0, 0.0, 0.0, 0.0, 0.0, 0.0, 0.0, 0.0005672742, 0.27898282, 0.00069139065, 0.0, 0.0, 0.0, 0.0, 0.0, 0.0, 0.015442106, 0.6373448, 0.01544986, 0.0, 0.0, 0.0, 0.0, 0.0, 0.0, 0.001264916, 0.31949022, 0.0010279273, 0.0, 0.0, 0.0, 0.0, 0.0, 0.0, 0.02021587, 0.6373448, 0.020619739, 0.0, 0.0, 0.0, 0.0, 0.0, 0.0, 0.0155078815, 0.51608485, 0.0138735315, 0.0, 0.0, 0.0, 0.0, 0.0, 0.0, 0.0032463307, 0.44526172, 0.0025845685, 0.0, 0.0, 0.0, 0.0, 0.0, 0.0, 0.014894558, 0.51608485, 0.017945865, 0.0, 0.0, 0.0, 0.0, 0.0, 0.0, 0.0021069718, 0.51273, 0.0031859807, 0.0, 0.0, 0.0, 0.0, 0.0, 0.0, 0.0, 0.7046156, 0.0, 0.0, 0.0, 0.0, 0.0, 0.0, 0.0, 0.0, 0.0, 0.0, 0.0, 0.0, 0.0, 0.0, 0.0, 0.0, 0.0, 0.7046156, 0.0, 0.0, 0.0, 0.0, 0.0, 0.0, 0.0, 0.0, 0.0, 0.0, 0.0, 0.0, 0.0, 0.0, 0.0, 0.0, 0.0, 0.0, 0.0, 0.0, 0.0, 0.0, 0.0, 0.0, 0.0, 0.0, 0.0, 0.0, 0.0, 0.0, 0.0, 0.0, 0.0, 0.0, 0.0, 0.0, 0.0, 0.0, 0.0, 0.0, 0.0, 0.0, 0.0, 0.0, 0.0, 0.0, 0.0, 0.0, 0.0, 0.0, 0.0, 0.0, 0.0, 0.0, 0.0, 0.0, 0.0, 0.0, 0.0, 0.0, 0.0, 0.0, 0.0, 0.0, 0.0, 0.0, 0.0, 0.0, 0.0, 0.0, 0.0, 0.0, 0.0, 0.0, 0.0, 0.0, 0.0, 0.0, 0.0, 0.0, 0.0, 0.0, 0.0, 0.0, 0.0, 0.0, 0.0, 0.0, 0.0, 0.0, 0.0, 0.0, 0.0, 0.0, 0.0, 0.0, 0.0, 0.0, 0.0, 0.0, 0.0, 0.0, 0.0, 0.0, 0.0, 0.0, 0.0, 0.0, 0.0, 0.0, 0.0, 0.0, 0.0, 0.0, 0.0, 0.0, 0.0, 0.0, 0.0, 0.0, 0.0, 0.0, 0.0, 0.0, 0.0, 0.0, 0.0, 0.0, 0.0, 0.0, 0.0, 0.0, 0.0, 0.0, 0.0, 0.0, 0.0, 0.0, 0.0, 0.0, 0.0, 0.0, 0.0, 0.0, 0.0, 0.0, 0.0, 0.0, 0.0, 0.0, 0.0, 0.0, 0.0, 0.0, 0.0, 0.0, 0.0, 0.0, 0.0, 0.0, 0.0, 0.0, 0.0, 0.0, 0.0, 0.0, 0.0, 0.0, 0.0, 0.0, 0.0, 0.0, 0.0, 0.0, 0.0, 0.0, 0.0, 0.0, 0.0, 0.0, 0.0, 0.0, 0.0, 0.0, 0.0, 0.0, 0.0, 0.0, 0.0, 0.0, 0.0, 0.0, 0.0, 0.0, 0.0, 0.0, 0.0, 0.0, 0.0, 0.0, 0.0, 0.0, 0.0, 0.0, 0.0, 0.0, 0.0, 0.0, 0.0, 0.0, 0.0, 0.0, 0.0, 0.0, 0.0, 0.0, 0.0, 0.0, 0.0, 0.0, 0.0, 0.0, 0.0, 0.0, 0.0, 0.0, 0.0, 0.0, 0.0, 0.0, 0.0, 0.0, 0.0, 0.0, 0.0, 0.0, 0.0, 0.0, 0.0, 0.0, 0.0, 0.0, 0.0, 0.0, 0.0, 0.0, 0.0, 0.0, 0.0, 0.0, 0.0, 0.0, 0.0, 0.0, 0.0, 0.0, 0.0, 0.0, 0.0, 0.0, 0.0, 0.0, 0.0, 0.0, 0.0]\n"
     ]
    }
   ],
   "source": [
    "print(h[6][11][2])\n",
    "print(hog_new[0][9][8])\n",
    "print(d[(7*4+4)*36+9:(7*4+4)*36+18])\n",
    "print(d)"
   ]
  },
  {
   "cell_type": "code",
   "execution_count": null,
   "metadata": {},
   "outputs": [],
   "source": []
  },
  {
   "cell_type": "code",
   "execution_count": 64,
   "metadata": {},
   "outputs": [],
   "source": [
    "\n",
    "def Reshape_in(Q):\n",
    "    RES=[]\n",
    "    for i in range(0,9):\n",
    "        a=[] #30 array with 14 elem\n",
    "        for j in range(0,15):\n",
    "            b=[] #14 elem\n",
    "            c=[]#14 elem\n",
    "            for k in range(0,7):\n",
    "                b.append(Q[2*j*14*9+k*36+i])\n",
    "                b.append(Q[2*j*14*9+k*36+i+18])\n",
    "                c.append(Q[2*j*14*9+k*36+i+9])\n",
    "                c.append(Q[2*j*14*9+k*36+i+27])\n",
    "            a.append(b)\n",
    "            a.append(c)\n",
    "        RES.append(a)\n",
    "    return RES\n",
    "def Reshape_in1(Q):\n",
    "    RES=[]\n",
    "    for i in range(0,9):\n",
    "        a=[] #30 array with 14 elem\n",
    "        for j in range(0,15):\n",
    "            b=[] #14 elem\n",
    "            c=[]#14 elem\n",
    "            for k in range(0,7):\n",
    "                b.append(Q[2*j*14*9+k*36+i])\n",
    "                b.append(Q[2*j*14*9+k*36+i+9])\n",
    "                c.append(Q[2*j*14*9+k*36+i+18])\n",
    "                c.append(Q[2*j*14*9+k*36+i+27])\n",
    "            a.append(b)\n",
    "            a.append(c)\n",
    "        RES.append(a)\n",
    "    return RES\n",
    "\n"
   ]
  },
  {
   "cell_type": "code",
   "execution_count": null,
   "metadata": {},
   "outputs": [],
   "source": []
  }
 ],
 "metadata": {
  "kernelspec": {
   "display_name": "Python 3",
   "language": "python",
   "name": "python3"
  },
  "language_info": {
   "codemirror_mode": {
    "name": "ipython",
    "version": 3
   },
   "file_extension": ".py",
   "mimetype": "text/x-python",
   "name": "python",
   "nbconvert_exporter": "python",
   "pygments_lexer": "ipython3",
   "version": "3.6.5"
  }
 },
 "nbformat": 4,
 "nbformat_minor": 2
}
