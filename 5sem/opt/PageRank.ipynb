{
 "cells": [
  {
   "cell_type": "code",
   "execution_count": 1,
   "metadata": {},
   "outputs": [],
   "source": [
    "import pandas as pd\n",
    "import numpy as np\n",
    "import numpy as np\n",
    "import scipy as sp\n",
    "from matplotlib import pyplot as plt\n",
    "import string\n",
    "from scipy.sparse import coo_matrix"
   ]
  },
  {
   "cell_type": "markdown",
   "metadata": {},
   "source": [
    "## Считаем информацию о ссылках из файла"
   ]
  },
  {
   "cell_type": "code",
   "execution_count": 2,
   "metadata": {},
   "outputs": [],
   "source": [
    "f = open('Cit-HepTh.txt', 'r')\n",
    "l = [line.strip() for line in f]"
   ]
  },
  {
   "cell_type": "code",
   "execution_count": 3,
   "metadata": {},
   "outputs": [],
   "source": [
    "l=l[4:]\n",
    "for i in range(0,len(l)):\n",
    "    l[i]=l[i].replace('\\t',' ')\n",
    "    l[i]=l[i].split(' ')"
   ]
  },
  {
   "cell_type": "code",
   "execution_count": null,
   "metadata": {},
   "outputs": [],
   "source": []
  },
  {
   "cell_type": "markdown",
   "metadata": {},
   "source": [
    "### Составим разреженную матрицу смежности графа"
   ]
  },
  {
   "cell_type": "code",
   "execution_count": 4,
   "metadata": {},
   "outputs": [],
   "source": [
    "#l=[[2,4],[1,2],[2,1]]\n",
    "row=[]\n",
    "col=[]\n",
    "for i in range(0,len(l)):\n",
    "    row.append(l[i][0])\n",
    "    col.append(l[i][1])\n"
   ]
  },
  {
   "cell_type": "code",
   "execution_count": 5,
   "metadata": {},
   "outputs": [],
   "source": [
    "row = np.array(row)\n",
    "col = np.array(col)\n",
    "data = np.ones(len(l))\n",
    "Mat = coo_matrix((data, (row, col)), shape=(9912294, 9912294)) #9912294"
   ]
  },
  {
   "cell_type": "markdown",
   "metadata": {},
   "source": [
    "### Найдем количество ребер, выходящих из каждой вершины"
   ]
  },
  {
   "cell_type": "code",
   "execution_count": 6,
   "metadata": {},
   "outputs": [
    {
     "name": "stdout",
     "output_type": "stream",
     "text": [
      "[[0.]\n",
      " [0.]\n",
      " [0.]\n",
      " [0.]\n",
      " [0.]]\n"
     ]
    }
   ],
   "source": [
    "a=Mat.sum(1)\n",
    "print(a[0:5,0])\n",
    "\n"
   ]
  },
  {
   "cell_type": "markdown",
   "metadata": {},
   "source": [
    "### Построим матрицу перехода P"
   ]
  },
  {
   "cell_type": "code",
   "execution_count": 7,
   "metadata": {},
   "outputs": [],
   "source": [
    "row=[]\n",
    "col=[]\n",
    "data=[]\n",
    "for i in range(0,len(l)):\n",
    "    col.append(l[i][0])\n",
    "    row.append(l[i][1])\n",
    "    k=int(l[i][0])\n",
    "    if(a[k,0]==0):\n",
    "        #print(l[i][0],l[i][1],a[k,0])\n",
    "        data.append(1/5)\n",
    "    else:\n",
    "        #print(l[i][0],l[i][1],1/a[k,0])\n",
    "        data.append(1/a[k,0])\n",
    "row = np.array(row)\n",
    "col = np.array(col)\n",
    "data = np.array(data)\n",
    "P = coo_matrix((data, (row, col)), shape=(9912294, 9912294))"
   ]
  },
  {
   "cell_type": "code",
   "execution_count": 8,
   "metadata": {},
   "outputs": [
    {
     "data": {
      "text/plain": [
       "matrix([[0., 0., 0., ..., 1., 1., 1.]])"
      ]
     },
     "execution_count": 8,
     "metadata": {},
     "output_type": "execute_result"
    }
   ],
   "source": [
    "P.sum(0)"
   ]
  },
  {
   "cell_type": "code",
   "execution_count": 13,
   "metadata": {},
   "outputs": [
    {
     "data": {
      "text/plain": [
       "array([1.0088482e-07, 1.0088482e-07, 1.0088482e-07, ..., 1.0088482e-07,\n",
       "       1.0088482e-07, 1.0088482e-07])"
      ]
     },
     "execution_count": 13,
     "metadata": {},
     "output_type": "execute_result"
    }
   ],
   "source": [
    "r = np.array([1/9912294 for i in range(0,9912294)])\n",
    "r = np.transpose(r)\n",
    "r"
   ]
  },
  {
   "cell_type": "code",
   "execution_count": 14,
   "metadata": {},
   "outputs": [
    {
     "name": "stdout",
     "output_type": "stream",
     "text": [
      "sum 0.0007318959902597282\n"
     ]
    }
   ],
   "source": [
    "previous_r = r\n",
    "for i in range(1,10000):\n",
    "   r = P * r\n",
    "   #print (display_format(r,3))\n",
    "   if (np.linalg.norm(previous_r-r)<10**(-5)).all():\n",
    "      break\n",
    "   previous_r = r\n",
    "#print (\"Final:\\n\", display_format(r,3))\n",
    "print (\"sum\", np.sum(r))"
   ]
  },
  {
   "cell_type": "code",
   "execution_count": 15,
   "metadata": {},
   "outputs": [
    {
     "data": {
      "text/plain": [
       "[(9207016, 1.2221681535272335e-05),\n",
       " (9201015, 1.1089090980618818e-05),\n",
       " (9407087, 1.1062583248071842e-05),\n",
       " (9503124, 9.906111017426891e-06),\n",
       " (9402044, 9.849104756545422e-06),\n",
       " (9510017, 8.106737343844373e-06),\n",
       " (9410167, 8.038621253910471e-06),\n",
       " (9205027, 7.636351846337389e-06),\n",
       " (9402002, 7.534982560766894e-06),\n",
       " (9207053, 6.885224009577918e-06)]"
      ]
     },
     "execution_count": 15,
     "metadata": {},
     "output_type": "execute_result"
    }
   ],
   "source": [
    "sorted(enumerate(r),key=lambda x: x[1], reverse=True)[:10]"
   ]
  },
  {
   "cell_type": "markdown",
   "metadata": {},
   "source": [
    "### По результатам хочется сказать,что возникли проблемы с реализацией разреженной матрицы. А именно в момент составления матрицы Р, когда для вершины, из которой не исходит ребер мы должны в соответствующий ей столбец поставить дефолтовые значения $\\frac{1}{N}$, но таких вершин дофига, тогда матрица не будет разреженной и питон будет ругаться, что я пытаюсь забить много памяти, поэтому в этой реализации они проинициализированны 0, что конечно же, могло повлиять на конечный результат."
   ]
  },
  {
   "cell_type": "code",
   "execution_count": null,
   "metadata": {},
   "outputs": [],
   "source": []
  }
 ],
 "metadata": {
  "kernelspec": {
   "display_name": "Python 3",
   "language": "python",
   "name": "python3"
  },
  "language_info": {
   "codemirror_mode": {
    "name": "ipython",
    "version": 3
   },
   "file_extension": ".py",
   "mimetype": "text/x-python",
   "name": "python",
   "nbconvert_exporter": "python",
   "pygments_lexer": "ipython3",
   "version": "3.7.4"
  }
 },
 "nbformat": 4,
 "nbformat_minor": 2
}
